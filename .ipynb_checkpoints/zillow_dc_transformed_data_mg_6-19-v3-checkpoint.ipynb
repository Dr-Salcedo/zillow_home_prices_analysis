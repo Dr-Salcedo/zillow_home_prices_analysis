{
 "cells": [
  {
   "cell_type": "markdown",
   "metadata": {},
   "source": [
    "Requirments\n",
    "- Baseline model\n",
    "- Staitonarity (e.g. trends, seasonal patterns, cyclical patterns, differencing, Dickey Fuller Test)  \n",
    "- ACF\n",
    "- PACF\n",
    "- At least AR and MA models\n",
    "- Evaluation metric  "
   ]
  },
  {
   "cell_type": "markdown",
   "metadata": {
    "ExecuteTime": {
     "end_time": "2019-06-17T21:40:02.364988Z",
     "start_time": "2019-06-17T21:40:01.646844Z"
    }
   },
   "source": [
    "# Welcome to *Hold the Gold's* D.C. housing analysis presentation#\n",
    "\n",
    "### The following analysis--by utilizing Zillow's extensive housing data--will examine the best real estate zip codes to invest in today.###\n"
   ]
  },
  {
   "cell_type": "markdown",
   "metadata": {
    "ExecuteTime": {
     "end_time": "2019-06-18T01:01:55.080099Z",
     "start_time": "2019-06-18T01:01:55.048265Z"
    }
   },
   "source": [
    "![pic](https://1.bp.blogspot.com/-jm3DNs93jbE/VIzbmGsvJqI/AAAAAAAAz9g/lwZW02QNWfk/s1600/WashingtonDC-zip-code-map-shaded.JPG) \n"
   ]
  },
  {
   "cell_type": "markdown",
   "metadata": {},
   "source": [
    "### **Goal:**"
   ]
  },
  {
   "cell_type": "markdown",
   "metadata": {},
   "source": [
    "To find the top 5 zipcodes for our savvy investors to deploy capital into for maximum financial return."
   ]
  },
  {
   "cell_type": "markdown",
   "metadata": {
    "ExecuteTime": {
     "end_time": "2019-06-18T01:19:54.517336Z",
     "start_time": "2019-06-18T01:19:54.511184Z"
    }
   },
   "source": [
    "### **Assumptions:**"
   ]
  },
  {
   "cell_type": "markdown",
   "metadata": {},
   "source": [
    "1. You are an investor with a minimum of $100,000 to deploy upfront.\n",
    "2. Your time horizon for investment is 5-10 years (this is not a liquid investment).\n",
    "3. You seek to maximize growth potential by tapping into home value appreciation in one of America's fastest growing metro areas.\n",
    "4.  Your threshold for volatility is low (note that no investment is guaranteed and any investment with *Hold the Gold* is subject to future market conditions)."
   ]
  },
  {
   "cell_type": "markdown",
   "metadata": {},
   "source": [
    "### **Background:**"
   ]
  },
  {
   "cell_type": "markdown",
   "metadata": {},
   "source": [
    "**Why the D.C. metropolitan area?**\n"
   ]
  },
  {
   "cell_type": "markdown",
   "metadata": {
    "ExecuteTime": {
     "end_time": "2019-06-18T18:24:39.539949Z",
     "start_time": "2019-06-18T18:24:39.525409Z"
    }
   },
   "source": [
    "max profit\n",
    "min volatitily \n",
    "max potential for home value increase while rental income supplmentation\n",
    "metro access \n",
    "upcoming fast growth trending area\n",
    "heavy insulation from federal govenrment home\n",
    "upcoming amazon headquarters\n",
    "future growth oritented \n",
    "risk vs profitability\n",
    "ROI yield\n",
    "\n",
    "The DC area is home to numerous 10/10 GreatSchools Rated elementary, middle, and high schools\n",
    "90-100\tMost Competitive Redfin Compete Score\n",
    "Most homes get multiple offers, often with waived contingencies.\n",
    "Homes typically receive 1 offer.\n",
    "Homes sell for around list price and go pending in around 11 days.\n",
    "Hot Homes can sell for about 3% above list price and go pending in around 5 days.\n",
    "\n",
    "walkscore.com\n",
    "Washington D.C. is the 7th most walkable large city in the US with 601,723 residents.\n",
    "\n",
    "Washington D.C. has excellent public transportation and is somewhat bikeable.77 walk score 71 transit score"
   ]
  },
  {
   "cell_type": "markdown",
   "metadata": {},
   "source": [
    "### **Methodology:**"
   ]
  },
  {
   "cell_type": "code",
   "execution_count": null,
   "metadata": {},
   "outputs": [],
   "source": []
  },
  {
   "cell_type": "code",
   "execution_count": null,
   "metadata": {},
   "outputs": [],
   "source": []
  },
  {
   "cell_type": "markdown",
   "metadata": {
    "ExecuteTime": {
     "end_time": "2019-06-18T01:15:08.201696Z",
     "start_time": "2019-06-18T01:15:08.192985Z"
    }
   },
   "source": [
    "### **Exploratory Data Analysis:**"
   ]
  },
  {
   "cell_type": "code",
   "execution_count": null,
   "metadata": {},
   "outputs": [],
   "source": []
  },
  {
   "cell_type": "code",
   "execution_count": 56,
   "metadata": {
    "ExecuteTime": {
     "end_time": "2019-06-18T18:35:20.587139Z",
     "start_time": "2019-06-18T18:35:20.165084Z"
    }
   },
   "outputs": [],
   "source": [
    "## first import all relevant libraries\n",
    "%matplotlib inline \n",
    "import pandas as pd\n",
    "import numpy as np\n",
    "import matplotlib.pyplot as plt\n",
    "import datetime\n",
    "import seaborn as sns\n",
    "import statsmodels.api as sm\n",
    "from statsmodels.tsa.stattools import adfuller\n",
    "from statsmodels.tsa.seasonal import seasonal_decompose\n"
   ]
  },
  {
   "cell_type": "code",
   "execution_count": 57,
   "metadata": {
    "ExecuteTime": {
     "end_time": "2019-06-18T18:35:21.976071Z",
     "start_time": "2019-06-18T18:35:20.804669Z"
    }
   },
   "outputs": [],
   "source": [
    "## read in data\n",
    "df=pd.read_csv(\"zillow_data.csv\")"
   ]
  },
  {
   "cell_type": "code",
   "execution_count": 58,
   "metadata": {
    "ExecuteTime": {
     "end_time": "2019-06-18T18:35:22.229266Z",
     "start_time": "2019-06-18T18:35:22.200367Z"
    },
    "scrolled": true
   },
   "outputs": [
    {
     "data": {
      "text/html": [
       "<div>\n",
       "<style scoped>\n",
       "    .dataframe tbody tr th:only-of-type {\n",
       "        vertical-align: middle;\n",
       "    }\n",
       "\n",
       "    .dataframe tbody tr th {\n",
       "        vertical-align: top;\n",
       "    }\n",
       "\n",
       "    .dataframe thead th {\n",
       "        text-align: right;\n",
       "    }\n",
       "</style>\n",
       "<table border=\"1\" class=\"dataframe\">\n",
       "  <thead>\n",
       "    <tr style=\"text-align: right;\">\n",
       "      <th></th>\n",
       "      <th>RegionID</th>\n",
       "      <th>RegionName</th>\n",
       "      <th>City</th>\n",
       "      <th>State</th>\n",
       "      <th>Metro</th>\n",
       "      <th>CountyName</th>\n",
       "      <th>SizeRank</th>\n",
       "      <th>1996-04</th>\n",
       "      <th>1996-05</th>\n",
       "      <th>1996-06</th>\n",
       "      <th>...</th>\n",
       "      <th>2017-07</th>\n",
       "      <th>2017-08</th>\n",
       "      <th>2017-09</th>\n",
       "      <th>2017-10</th>\n",
       "      <th>2017-11</th>\n",
       "      <th>2017-12</th>\n",
       "      <th>2018-01</th>\n",
       "      <th>2018-02</th>\n",
       "      <th>2018-03</th>\n",
       "      <th>2018-04</th>\n",
       "    </tr>\n",
       "  </thead>\n",
       "  <tbody>\n",
       "    <tr>\n",
       "      <th>0</th>\n",
       "      <td>84654</td>\n",
       "      <td>60657</td>\n",
       "      <td>Chicago</td>\n",
       "      <td>IL</td>\n",
       "      <td>Chicago</td>\n",
       "      <td>Cook</td>\n",
       "      <td>1</td>\n",
       "      <td>334200.0</td>\n",
       "      <td>335400.0</td>\n",
       "      <td>336500.0</td>\n",
       "      <td>...</td>\n",
       "      <td>1005500</td>\n",
       "      <td>1007500</td>\n",
       "      <td>1007800</td>\n",
       "      <td>1009600</td>\n",
       "      <td>1013300</td>\n",
       "      <td>1018700</td>\n",
       "      <td>1024400</td>\n",
       "      <td>1030700</td>\n",
       "      <td>1033800</td>\n",
       "      <td>1030600</td>\n",
       "    </tr>\n",
       "    <tr>\n",
       "      <th>1</th>\n",
       "      <td>90668</td>\n",
       "      <td>75070</td>\n",
       "      <td>McKinney</td>\n",
       "      <td>TX</td>\n",
       "      <td>Dallas-Fort Worth</td>\n",
       "      <td>Collin</td>\n",
       "      <td>2</td>\n",
       "      <td>235700.0</td>\n",
       "      <td>236900.0</td>\n",
       "      <td>236700.0</td>\n",
       "      <td>...</td>\n",
       "      <td>308000</td>\n",
       "      <td>310000</td>\n",
       "      <td>312500</td>\n",
       "      <td>314100</td>\n",
       "      <td>315000</td>\n",
       "      <td>316600</td>\n",
       "      <td>318100</td>\n",
       "      <td>319600</td>\n",
       "      <td>321100</td>\n",
       "      <td>321800</td>\n",
       "    </tr>\n",
       "    <tr>\n",
       "      <th>2</th>\n",
       "      <td>91982</td>\n",
       "      <td>77494</td>\n",
       "      <td>Katy</td>\n",
       "      <td>TX</td>\n",
       "      <td>Houston</td>\n",
       "      <td>Harris</td>\n",
       "      <td>3</td>\n",
       "      <td>210400.0</td>\n",
       "      <td>212200.0</td>\n",
       "      <td>212200.0</td>\n",
       "      <td>...</td>\n",
       "      <td>321000</td>\n",
       "      <td>320600</td>\n",
       "      <td>320200</td>\n",
       "      <td>320400</td>\n",
       "      <td>320800</td>\n",
       "      <td>321200</td>\n",
       "      <td>321200</td>\n",
       "      <td>323000</td>\n",
       "      <td>326900</td>\n",
       "      <td>329900</td>\n",
       "    </tr>\n",
       "    <tr>\n",
       "      <th>3</th>\n",
       "      <td>84616</td>\n",
       "      <td>60614</td>\n",
       "      <td>Chicago</td>\n",
       "      <td>IL</td>\n",
       "      <td>Chicago</td>\n",
       "      <td>Cook</td>\n",
       "      <td>4</td>\n",
       "      <td>498100.0</td>\n",
       "      <td>500900.0</td>\n",
       "      <td>503100.0</td>\n",
       "      <td>...</td>\n",
       "      <td>1289800</td>\n",
       "      <td>1287700</td>\n",
       "      <td>1287400</td>\n",
       "      <td>1291500</td>\n",
       "      <td>1296600</td>\n",
       "      <td>1299000</td>\n",
       "      <td>1302700</td>\n",
       "      <td>1306400</td>\n",
       "      <td>1308500</td>\n",
       "      <td>1307000</td>\n",
       "    </tr>\n",
       "    <tr>\n",
       "      <th>4</th>\n",
       "      <td>93144</td>\n",
       "      <td>79936</td>\n",
       "      <td>El Paso</td>\n",
       "      <td>TX</td>\n",
       "      <td>El Paso</td>\n",
       "      <td>El Paso</td>\n",
       "      <td>5</td>\n",
       "      <td>77300.0</td>\n",
       "      <td>77300.0</td>\n",
       "      <td>77300.0</td>\n",
       "      <td>...</td>\n",
       "      <td>119100</td>\n",
       "      <td>119400</td>\n",
       "      <td>120000</td>\n",
       "      <td>120300</td>\n",
       "      <td>120300</td>\n",
       "      <td>120300</td>\n",
       "      <td>120300</td>\n",
       "      <td>120500</td>\n",
       "      <td>121000</td>\n",
       "      <td>121500</td>\n",
       "    </tr>\n",
       "  </tbody>\n",
       "</table>\n",
       "<p>5 rows × 272 columns</p>\n",
       "</div>"
      ],
      "text/plain": [
       "   RegionID  RegionName      City State              Metro CountyName  \\\n",
       "0     84654       60657   Chicago    IL            Chicago       Cook   \n",
       "1     90668       75070  McKinney    TX  Dallas-Fort Worth     Collin   \n",
       "2     91982       77494      Katy    TX            Houston     Harris   \n",
       "3     84616       60614   Chicago    IL            Chicago       Cook   \n",
       "4     93144       79936   El Paso    TX            El Paso    El Paso   \n",
       "\n",
       "   SizeRank   1996-04   1996-05   1996-06  ...  2017-07  2017-08  2017-09  \\\n",
       "0         1  334200.0  335400.0  336500.0  ...  1005500  1007500  1007800   \n",
       "1         2  235700.0  236900.0  236700.0  ...   308000   310000   312500   \n",
       "2         3  210400.0  212200.0  212200.0  ...   321000   320600   320200   \n",
       "3         4  498100.0  500900.0  503100.0  ...  1289800  1287700  1287400   \n",
       "4         5   77300.0   77300.0   77300.0  ...   119100   119400   120000   \n",
       "\n",
       "   2017-10  2017-11  2017-12  2018-01  2018-02  2018-03  2018-04  \n",
       "0  1009600  1013300  1018700  1024400  1030700  1033800  1030600  \n",
       "1   314100   315000   316600   318100   319600   321100   321800  \n",
       "2   320400   320800   321200   321200   323000   326900   329900  \n",
       "3  1291500  1296600  1299000  1302700  1306400  1308500  1307000  \n",
       "4   120300   120300   120300   120300   120500   121000   121500  \n",
       "\n",
       "[5 rows x 272 columns]"
      ]
     },
     "execution_count": 58,
     "metadata": {},
     "output_type": "execute_result"
    }
   ],
   "source": [
    "## preview data\n",
    "df.head()"
   ]
  },
  {
   "cell_type": "code",
   "execution_count": 59,
   "metadata": {
    "ExecuteTime": {
     "end_time": "2019-06-18T18:35:22.475131Z",
     "start_time": "2019-06-18T18:35:22.447607Z"
    }
   },
   "outputs": [],
   "source": [
    "## select only data from D.C. area\n",
    "df_dc=df[df[\"State\"]==\"DC\"]"
   ]
  },
  {
   "cell_type": "code",
   "execution_count": 60,
   "metadata": {
    "ExecuteTime": {
     "end_time": "2019-06-18T18:35:22.904208Z",
     "start_time": "2019-06-18T18:35:22.897338Z"
    }
   },
   "outputs": [],
   "source": [
    "## drop unneeded columns\n",
    "## dropped RegionID, City, State, Metro, CountyName\n",
    "df_dc=df_dc.drop([\"RegionID\", \"City\", \"State\", \"Metro\", \"CountyName\", \"SizeRank\"], axis=1)"
   ]
  },
  {
   "cell_type": "code",
   "execution_count": 61,
   "metadata": {
    "ExecuteTime": {
     "end_time": "2019-06-18T18:35:23.162413Z",
     "start_time": "2019-06-18T18:35:23.120245Z"
    },
    "scrolled": true
   },
   "outputs": [
    {
     "data": {
      "text/html": [
       "<div>\n",
       "<style scoped>\n",
       "    .dataframe tbody tr th:only-of-type {\n",
       "        vertical-align: middle;\n",
       "    }\n",
       "\n",
       "    .dataframe tbody tr th {\n",
       "        vertical-align: top;\n",
       "    }\n",
       "\n",
       "    .dataframe thead th {\n",
       "        text-align: right;\n",
       "    }\n",
       "</style>\n",
       "<table border=\"1\" class=\"dataframe\">\n",
       "  <thead>\n",
       "    <tr style=\"text-align: right;\">\n",
       "      <th></th>\n",
       "      <th>Zipcode</th>\n",
       "      <th>1996-04</th>\n",
       "      <th>1996-05</th>\n",
       "      <th>1996-06</th>\n",
       "      <th>1996-07</th>\n",
       "      <th>1996-08</th>\n",
       "      <th>1996-09</th>\n",
       "      <th>1996-10</th>\n",
       "      <th>1996-11</th>\n",
       "      <th>1996-12</th>\n",
       "      <th>...</th>\n",
       "      <th>2017-07</th>\n",
       "      <th>2017-08</th>\n",
       "      <th>2017-09</th>\n",
       "      <th>2017-10</th>\n",
       "      <th>2017-11</th>\n",
       "      <th>2017-12</th>\n",
       "      <th>2018-01</th>\n",
       "      <th>2018-02</th>\n",
       "      <th>2018-03</th>\n",
       "      <th>2018-04</th>\n",
       "    </tr>\n",
       "  </thead>\n",
       "  <tbody>\n",
       "    <tr>\n",
       "      <th>29</th>\n",
       "      <td>20002</td>\n",
       "      <td>94300.0</td>\n",
       "      <td>94000.0</td>\n",
       "      <td>93700.0</td>\n",
       "      <td>93600.0</td>\n",
       "      <td>93400.0</td>\n",
       "      <td>93400.0</td>\n",
       "      <td>93400.0</td>\n",
       "      <td>93600.0</td>\n",
       "      <td>94000.0</td>\n",
       "      <td>...</td>\n",
       "      <td>662800</td>\n",
       "      <td>668000</td>\n",
       "      <td>672200</td>\n",
       "      <td>673100</td>\n",
       "      <td>674600</td>\n",
       "      <td>678200</td>\n",
       "      <td>680900</td>\n",
       "      <td>683000</td>\n",
       "      <td>687500</td>\n",
       "      <td>691300</td>\n",
       "    </tr>\n",
       "    <tr>\n",
       "      <th>33</th>\n",
       "      <td>20009</td>\n",
       "      <td>178800.0</td>\n",
       "      <td>179200.0</td>\n",
       "      <td>179600.0</td>\n",
       "      <td>180000.0</td>\n",
       "      <td>180300.0</td>\n",
       "      <td>180700.0</td>\n",
       "      <td>181200.0</td>\n",
       "      <td>181800.0</td>\n",
       "      <td>182600.0</td>\n",
       "      <td>...</td>\n",
       "      <td>1020000</td>\n",
       "      <td>1027500</td>\n",
       "      <td>1034300</td>\n",
       "      <td>1040500</td>\n",
       "      <td>1047400</td>\n",
       "      <td>1055400</td>\n",
       "      <td>1065900</td>\n",
       "      <td>1076400</td>\n",
       "      <td>1081000</td>\n",
       "      <td>1078200</td>\n",
       "    </tr>\n",
       "    <tr>\n",
       "      <th>181</th>\n",
       "      <td>20011</td>\n",
       "      <td>118900.0</td>\n",
       "      <td>118500.0</td>\n",
       "      <td>118200.0</td>\n",
       "      <td>117800.0</td>\n",
       "      <td>117600.0</td>\n",
       "      <td>117400.0</td>\n",
       "      <td>117400.0</td>\n",
       "      <td>117500.0</td>\n",
       "      <td>117800.0</td>\n",
       "      <td>...</td>\n",
       "      <td>582200</td>\n",
       "      <td>586200</td>\n",
       "      <td>591200</td>\n",
       "      <td>593200</td>\n",
       "      <td>591200</td>\n",
       "      <td>589500</td>\n",
       "      <td>590800</td>\n",
       "      <td>599100</td>\n",
       "      <td>611400</td>\n",
       "      <td>619100</td>\n",
       "    </tr>\n",
       "    <tr>\n",
       "      <th>246</th>\n",
       "      <td>20019</td>\n",
       "      <td>91300.0</td>\n",
       "      <td>91000.0</td>\n",
       "      <td>90600.0</td>\n",
       "      <td>90400.0</td>\n",
       "      <td>90100.0</td>\n",
       "      <td>89900.0</td>\n",
       "      <td>89700.0</td>\n",
       "      <td>89600.0</td>\n",
       "      <td>89600.0</td>\n",
       "      <td>...</td>\n",
       "      <td>291100</td>\n",
       "      <td>296300</td>\n",
       "      <td>302500</td>\n",
       "      <td>306700</td>\n",
       "      <td>308800</td>\n",
       "      <td>310800</td>\n",
       "      <td>313400</td>\n",
       "      <td>314100</td>\n",
       "      <td>311800</td>\n",
       "      <td>308600</td>\n",
       "    </tr>\n",
       "    <tr>\n",
       "      <th>258</th>\n",
       "      <td>20001</td>\n",
       "      <td>92000.0</td>\n",
       "      <td>92600.0</td>\n",
       "      <td>93200.0</td>\n",
       "      <td>93900.0</td>\n",
       "      <td>94600.0</td>\n",
       "      <td>95400.0</td>\n",
       "      <td>96100.0</td>\n",
       "      <td>96800.0</td>\n",
       "      <td>97700.0</td>\n",
       "      <td>...</td>\n",
       "      <td>765000</td>\n",
       "      <td>768800</td>\n",
       "      <td>771200</td>\n",
       "      <td>773300</td>\n",
       "      <td>777600</td>\n",
       "      <td>780500</td>\n",
       "      <td>781600</td>\n",
       "      <td>785500</td>\n",
       "      <td>791400</td>\n",
       "      <td>793300</td>\n",
       "    </tr>\n",
       "  </tbody>\n",
       "</table>\n",
       "<p>5 rows × 266 columns</p>\n",
       "</div>"
      ],
      "text/plain": [
       "     Zipcode   1996-04   1996-05   1996-06   1996-07   1996-08   1996-09  \\\n",
       "29     20002   94300.0   94000.0   93700.0   93600.0   93400.0   93400.0   \n",
       "33     20009  178800.0  179200.0  179600.0  180000.0  180300.0  180700.0   \n",
       "181    20011  118900.0  118500.0  118200.0  117800.0  117600.0  117400.0   \n",
       "246    20019   91300.0   91000.0   90600.0   90400.0   90100.0   89900.0   \n",
       "258    20001   92000.0   92600.0   93200.0   93900.0   94600.0   95400.0   \n",
       "\n",
       "      1996-10   1996-11   1996-12  ...  2017-07  2017-08  2017-09  2017-10  \\\n",
       "29    93400.0   93600.0   94000.0  ...   662800   668000   672200   673100   \n",
       "33   181200.0  181800.0  182600.0  ...  1020000  1027500  1034300  1040500   \n",
       "181  117400.0  117500.0  117800.0  ...   582200   586200   591200   593200   \n",
       "246   89700.0   89600.0   89600.0  ...   291100   296300   302500   306700   \n",
       "258   96100.0   96800.0   97700.0  ...   765000   768800   771200   773300   \n",
       "\n",
       "     2017-11  2017-12  2018-01  2018-02  2018-03  2018-04  \n",
       "29    674600   678200   680900   683000   687500   691300  \n",
       "33   1047400  1055400  1065900  1076400  1081000  1078200  \n",
       "181   591200   589500   590800   599100   611400   619100  \n",
       "246   308800   310800   313400   314100   311800   308600  \n",
       "258   777600   780500   781600   785500   791400   793300  \n",
       "\n",
       "[5 rows x 266 columns]"
      ]
     },
     "execution_count": 61,
     "metadata": {},
     "output_type": "execute_result"
    }
   ],
   "source": [
    "##Rename RegionID to zipcode\n",
    "df_dc.rename(columns={'RegionName': 'Zipcode'}, inplace=True)\n",
    "df_dc.head()"
   ]
  },
  {
   "cell_type": "code",
   "execution_count": 8,
   "metadata": {
    "ExecuteTime": {
     "end_time": "2019-06-18T18:35:23.458762Z",
     "start_time": "2019-06-18T18:35:23.417605Z"
    }
   },
   "outputs": [
    {
     "data": {
      "text/html": [
       "<div>\n",
       "<style scoped>\n",
       "    .dataframe tbody tr th:only-of-type {\n",
       "        vertical-align: middle;\n",
       "    }\n",
       "\n",
       "    .dataframe tbody tr th {\n",
       "        vertical-align: top;\n",
       "    }\n",
       "\n",
       "    .dataframe thead th {\n",
       "        text-align: right;\n",
       "    }\n",
       "</style>\n",
       "<table border=\"1\" class=\"dataframe\">\n",
       "  <thead>\n",
       "    <tr style=\"text-align: right;\">\n",
       "      <th></th>\n",
       "      <th>Zipcode</th>\n",
       "      <th>1996-04</th>\n",
       "      <th>1996-05</th>\n",
       "      <th>1996-06</th>\n",
       "      <th>1996-07</th>\n",
       "      <th>1996-08</th>\n",
       "      <th>1996-09</th>\n",
       "      <th>1996-10</th>\n",
       "      <th>1996-11</th>\n",
       "      <th>1996-12</th>\n",
       "      <th>...</th>\n",
       "      <th>2017-07</th>\n",
       "      <th>2017-08</th>\n",
       "      <th>2017-09</th>\n",
       "      <th>2017-10</th>\n",
       "      <th>2017-11</th>\n",
       "      <th>2017-12</th>\n",
       "      <th>2018-01</th>\n",
       "      <th>2018-02</th>\n",
       "      <th>2018-03</th>\n",
       "      <th>2018-04</th>\n",
       "    </tr>\n",
       "  </thead>\n",
       "  <tbody>\n",
       "    <tr>\n",
       "      <th>0</th>\n",
       "      <td>20002</td>\n",
       "      <td>94300.0</td>\n",
       "      <td>94000.0</td>\n",
       "      <td>93700.0</td>\n",
       "      <td>93600.0</td>\n",
       "      <td>93400.0</td>\n",
       "      <td>93400.0</td>\n",
       "      <td>93400.0</td>\n",
       "      <td>93600.0</td>\n",
       "      <td>94000.0</td>\n",
       "      <td>...</td>\n",
       "      <td>662800</td>\n",
       "      <td>668000</td>\n",
       "      <td>672200</td>\n",
       "      <td>673100</td>\n",
       "      <td>674600</td>\n",
       "      <td>678200</td>\n",
       "      <td>680900</td>\n",
       "      <td>683000</td>\n",
       "      <td>687500</td>\n",
       "      <td>691300</td>\n",
       "    </tr>\n",
       "    <tr>\n",
       "      <th>1</th>\n",
       "      <td>20009</td>\n",
       "      <td>178800.0</td>\n",
       "      <td>179200.0</td>\n",
       "      <td>179600.0</td>\n",
       "      <td>180000.0</td>\n",
       "      <td>180300.0</td>\n",
       "      <td>180700.0</td>\n",
       "      <td>181200.0</td>\n",
       "      <td>181800.0</td>\n",
       "      <td>182600.0</td>\n",
       "      <td>...</td>\n",
       "      <td>1020000</td>\n",
       "      <td>1027500</td>\n",
       "      <td>1034300</td>\n",
       "      <td>1040500</td>\n",
       "      <td>1047400</td>\n",
       "      <td>1055400</td>\n",
       "      <td>1065900</td>\n",
       "      <td>1076400</td>\n",
       "      <td>1081000</td>\n",
       "      <td>1078200</td>\n",
       "    </tr>\n",
       "    <tr>\n",
       "      <th>2</th>\n",
       "      <td>20011</td>\n",
       "      <td>118900.0</td>\n",
       "      <td>118500.0</td>\n",
       "      <td>118200.0</td>\n",
       "      <td>117800.0</td>\n",
       "      <td>117600.0</td>\n",
       "      <td>117400.0</td>\n",
       "      <td>117400.0</td>\n",
       "      <td>117500.0</td>\n",
       "      <td>117800.0</td>\n",
       "      <td>...</td>\n",
       "      <td>582200</td>\n",
       "      <td>586200</td>\n",
       "      <td>591200</td>\n",
       "      <td>593200</td>\n",
       "      <td>591200</td>\n",
       "      <td>589500</td>\n",
       "      <td>590800</td>\n",
       "      <td>599100</td>\n",
       "      <td>611400</td>\n",
       "      <td>619100</td>\n",
       "    </tr>\n",
       "    <tr>\n",
       "      <th>3</th>\n",
       "      <td>20019</td>\n",
       "      <td>91300.0</td>\n",
       "      <td>91000.0</td>\n",
       "      <td>90600.0</td>\n",
       "      <td>90400.0</td>\n",
       "      <td>90100.0</td>\n",
       "      <td>89900.0</td>\n",
       "      <td>89700.0</td>\n",
       "      <td>89600.0</td>\n",
       "      <td>89600.0</td>\n",
       "      <td>...</td>\n",
       "      <td>291100</td>\n",
       "      <td>296300</td>\n",
       "      <td>302500</td>\n",
       "      <td>306700</td>\n",
       "      <td>308800</td>\n",
       "      <td>310800</td>\n",
       "      <td>313400</td>\n",
       "      <td>314100</td>\n",
       "      <td>311800</td>\n",
       "      <td>308600</td>\n",
       "    </tr>\n",
       "    <tr>\n",
       "      <th>4</th>\n",
       "      <td>20001</td>\n",
       "      <td>92000.0</td>\n",
       "      <td>92600.0</td>\n",
       "      <td>93200.0</td>\n",
       "      <td>93900.0</td>\n",
       "      <td>94600.0</td>\n",
       "      <td>95400.0</td>\n",
       "      <td>96100.0</td>\n",
       "      <td>96800.0</td>\n",
       "      <td>97700.0</td>\n",
       "      <td>...</td>\n",
       "      <td>765000</td>\n",
       "      <td>768800</td>\n",
       "      <td>771200</td>\n",
       "      <td>773300</td>\n",
       "      <td>777600</td>\n",
       "      <td>780500</td>\n",
       "      <td>781600</td>\n",
       "      <td>785500</td>\n",
       "      <td>791400</td>\n",
       "      <td>793300</td>\n",
       "    </tr>\n",
       "    <tr>\n",
       "      <th>5</th>\n",
       "      <td>20020</td>\n",
       "      <td>104500.0</td>\n",
       "      <td>103800.0</td>\n",
       "      <td>103000.0</td>\n",
       "      <td>102200.0</td>\n",
       "      <td>101400.0</td>\n",
       "      <td>100600.0</td>\n",
       "      <td>100000.0</td>\n",
       "      <td>99500.0</td>\n",
       "      <td>99200.0</td>\n",
       "      <td>...</td>\n",
       "      <td>314700</td>\n",
       "      <td>317600</td>\n",
       "      <td>321800</td>\n",
       "      <td>324500</td>\n",
       "      <td>324800</td>\n",
       "      <td>324900</td>\n",
       "      <td>324900</td>\n",
       "      <td>327300</td>\n",
       "      <td>332800</td>\n",
       "      <td>337000</td>\n",
       "    </tr>\n",
       "    <tr>\n",
       "      <th>6</th>\n",
       "      <td>20008</td>\n",
       "      <td>450100.0</td>\n",
       "      <td>448200.0</td>\n",
       "      <td>446300.0</td>\n",
       "      <td>444500.0</td>\n",
       "      <td>442900.0</td>\n",
       "      <td>441600.0</td>\n",
       "      <td>440700.0</td>\n",
       "      <td>440100.0</td>\n",
       "      <td>440100.0</td>\n",
       "      <td>...</td>\n",
       "      <td>1501600</td>\n",
       "      <td>1508800</td>\n",
       "      <td>1509700</td>\n",
       "      <td>1506000</td>\n",
       "      <td>1509100</td>\n",
       "      <td>1514300</td>\n",
       "      <td>1519400</td>\n",
       "      <td>1527900</td>\n",
       "      <td>1539600</td>\n",
       "      <td>1545900</td>\n",
       "    </tr>\n",
       "    <tr>\n",
       "      <th>7</th>\n",
       "      <td>20003</td>\n",
       "      <td>130000.0</td>\n",
       "      <td>130100.0</td>\n",
       "      <td>130200.0</td>\n",
       "      <td>130400.0</td>\n",
       "      <td>130600.0</td>\n",
       "      <td>130900.0</td>\n",
       "      <td>131400.0</td>\n",
       "      <td>131900.0</td>\n",
       "      <td>132700.0</td>\n",
       "      <td>...</td>\n",
       "      <td>801000</td>\n",
       "      <td>807200</td>\n",
       "      <td>811900</td>\n",
       "      <td>813400</td>\n",
       "      <td>814600</td>\n",
       "      <td>814600</td>\n",
       "      <td>815300</td>\n",
       "      <td>817300</td>\n",
       "      <td>820200</td>\n",
       "      <td>820200</td>\n",
       "    </tr>\n",
       "    <tr>\n",
       "      <th>8</th>\n",
       "      <td>20032</td>\n",
       "      <td>85700.0</td>\n",
       "      <td>85500.0</td>\n",
       "      <td>85400.0</td>\n",
       "      <td>85200.0</td>\n",
       "      <td>85000.0</td>\n",
       "      <td>84800.0</td>\n",
       "      <td>84600.0</td>\n",
       "      <td>84400.0</td>\n",
       "      <td>84200.0</td>\n",
       "      <td>...</td>\n",
       "      <td>288100</td>\n",
       "      <td>293400</td>\n",
       "      <td>297800</td>\n",
       "      <td>301500</td>\n",
       "      <td>303700</td>\n",
       "      <td>304000</td>\n",
       "      <td>304600</td>\n",
       "      <td>306800</td>\n",
       "      <td>308200</td>\n",
       "      <td>307400</td>\n",
       "    </tr>\n",
       "    <tr>\n",
       "      <th>9</th>\n",
       "      <td>20016</td>\n",
       "      <td>362000.0</td>\n",
       "      <td>361200.0</td>\n",
       "      <td>360300.0</td>\n",
       "      <td>359400.0</td>\n",
       "      <td>358500.0</td>\n",
       "      <td>357700.0</td>\n",
       "      <td>357000.0</td>\n",
       "      <td>356500.0</td>\n",
       "      <td>356400.0</td>\n",
       "      <td>...</td>\n",
       "      <td>1202900</td>\n",
       "      <td>1198700</td>\n",
       "      <td>1196400</td>\n",
       "      <td>1190400</td>\n",
       "      <td>1184800</td>\n",
       "      <td>1183600</td>\n",
       "      <td>1186600</td>\n",
       "      <td>1190000</td>\n",
       "      <td>1196000</td>\n",
       "      <td>1199500</td>\n",
       "    </tr>\n",
       "    <tr>\n",
       "      <th>10</th>\n",
       "      <td>20010</td>\n",
       "      <td>110500.0</td>\n",
       "      <td>111200.0</td>\n",
       "      <td>112000.0</td>\n",
       "      <td>112900.0</td>\n",
       "      <td>113800.0</td>\n",
       "      <td>114900.0</td>\n",
       "      <td>116100.0</td>\n",
       "      <td>117400.0</td>\n",
       "      <td>118800.0</td>\n",
       "      <td>...</td>\n",
       "      <td>732800</td>\n",
       "      <td>741700</td>\n",
       "      <td>750900</td>\n",
       "      <td>756300</td>\n",
       "      <td>759300</td>\n",
       "      <td>761800</td>\n",
       "      <td>763500</td>\n",
       "      <td>767800</td>\n",
       "      <td>774700</td>\n",
       "      <td>778200</td>\n",
       "    </tr>\n",
       "    <tr>\n",
       "      <th>11</th>\n",
       "      <td>20007</td>\n",
       "      <td>358100.0</td>\n",
       "      <td>356000.0</td>\n",
       "      <td>353900.0</td>\n",
       "      <td>351700.0</td>\n",
       "      <td>349600.0</td>\n",
       "      <td>347500.0</td>\n",
       "      <td>345800.0</td>\n",
       "      <td>344400.0</td>\n",
       "      <td>343600.0</td>\n",
       "      <td>...</td>\n",
       "      <td>1329300</td>\n",
       "      <td>1330800</td>\n",
       "      <td>1324900</td>\n",
       "      <td>1314100</td>\n",
       "      <td>1303500</td>\n",
       "      <td>1296500</td>\n",
       "      <td>1293000</td>\n",
       "      <td>1291200</td>\n",
       "      <td>1291000</td>\n",
       "      <td>1290000</td>\n",
       "    </tr>\n",
       "    <tr>\n",
       "      <th>12</th>\n",
       "      <td>20024</td>\n",
       "      <td>209800.0</td>\n",
       "      <td>208200.0</td>\n",
       "      <td>206600.0</td>\n",
       "      <td>205000.0</td>\n",
       "      <td>203300.0</td>\n",
       "      <td>201900.0</td>\n",
       "      <td>200500.0</td>\n",
       "      <td>199300.0</td>\n",
       "      <td>198300.0</td>\n",
       "      <td>...</td>\n",
       "      <td>879200</td>\n",
       "      <td>866900</td>\n",
       "      <td>860100</td>\n",
       "      <td>864500</td>\n",
       "      <td>874100</td>\n",
       "      <td>878200</td>\n",
       "      <td>882300</td>\n",
       "      <td>885500</td>\n",
       "      <td>886900</td>\n",
       "      <td>885000</td>\n",
       "    </tr>\n",
       "    <tr>\n",
       "      <th>13</th>\n",
       "      <td>20017</td>\n",
       "      <td>121700.0</td>\n",
       "      <td>121400.0</td>\n",
       "      <td>121200.0</td>\n",
       "      <td>121000.0</td>\n",
       "      <td>120900.0</td>\n",
       "      <td>120900.0</td>\n",
       "      <td>121100.0</td>\n",
       "      <td>121400.0</td>\n",
       "      <td>121900.0</td>\n",
       "      <td>...</td>\n",
       "      <td>534300</td>\n",
       "      <td>534300</td>\n",
       "      <td>535300</td>\n",
       "      <td>535600</td>\n",
       "      <td>532600</td>\n",
       "      <td>531000</td>\n",
       "      <td>534400</td>\n",
       "      <td>542300</td>\n",
       "      <td>548400</td>\n",
       "      <td>548900</td>\n",
       "    </tr>\n",
       "    <tr>\n",
       "      <th>14</th>\n",
       "      <td>20018</td>\n",
       "      <td>123000.0</td>\n",
       "      <td>122400.0</td>\n",
       "      <td>121800.0</td>\n",
       "      <td>121200.0</td>\n",
       "      <td>120700.0</td>\n",
       "      <td>120400.0</td>\n",
       "      <td>120200.0</td>\n",
       "      <td>120200.0</td>\n",
       "      <td>120500.0</td>\n",
       "      <td>...</td>\n",
       "      <td>533200</td>\n",
       "      <td>535200</td>\n",
       "      <td>534700</td>\n",
       "      <td>533100</td>\n",
       "      <td>534500</td>\n",
       "      <td>538700</td>\n",
       "      <td>542200</td>\n",
       "      <td>548300</td>\n",
       "      <td>553800</td>\n",
       "      <td>554100</td>\n",
       "    </tr>\n",
       "    <tr>\n",
       "      <th>15</th>\n",
       "      <td>20037</td>\n",
       "      <td>277800.0</td>\n",
       "      <td>275800.0</td>\n",
       "      <td>273700.0</td>\n",
       "      <td>271600.0</td>\n",
       "      <td>269500.0</td>\n",
       "      <td>267600.0</td>\n",
       "      <td>265800.0</td>\n",
       "      <td>264200.0</td>\n",
       "      <td>263100.0</td>\n",
       "      <td>...</td>\n",
       "      <td>906400</td>\n",
       "      <td>914900</td>\n",
       "      <td>918700</td>\n",
       "      <td>923400</td>\n",
       "      <td>938900</td>\n",
       "      <td>953100</td>\n",
       "      <td>967600</td>\n",
       "      <td>990100</td>\n",
       "      <td>1013500</td>\n",
       "      <td>1019600</td>\n",
       "    </tr>\n",
       "    <tr>\n",
       "      <th>16</th>\n",
       "      <td>20015</td>\n",
       "      <td>312400.0</td>\n",
       "      <td>311000.0</td>\n",
       "      <td>309800.0</td>\n",
       "      <td>308700.0</td>\n",
       "      <td>307900.0</td>\n",
       "      <td>307400.0</td>\n",
       "      <td>307300.0</td>\n",
       "      <td>307700.0</td>\n",
       "      <td>308800.0</td>\n",
       "      <td>...</td>\n",
       "      <td>1000500</td>\n",
       "      <td>1004000</td>\n",
       "      <td>1005300</td>\n",
       "      <td>1003700</td>\n",
       "      <td>1002900</td>\n",
       "      <td>1003600</td>\n",
       "      <td>1004400</td>\n",
       "      <td>1006400</td>\n",
       "      <td>1007200</td>\n",
       "      <td>1004000</td>\n",
       "    </tr>\n",
       "    <tr>\n",
       "      <th>17</th>\n",
       "      <td>20012</td>\n",
       "      <td>185000.0</td>\n",
       "      <td>184900.0</td>\n",
       "      <td>184700.0</td>\n",
       "      <td>184400.0</td>\n",
       "      <td>184100.0</td>\n",
       "      <td>183900.0</td>\n",
       "      <td>183700.0</td>\n",
       "      <td>183800.0</td>\n",
       "      <td>184200.0</td>\n",
       "      <td>...</td>\n",
       "      <td>688500</td>\n",
       "      <td>692000</td>\n",
       "      <td>696100</td>\n",
       "      <td>699400</td>\n",
       "      <td>703800</td>\n",
       "      <td>709400</td>\n",
       "      <td>714400</td>\n",
       "      <td>720100</td>\n",
       "      <td>727400</td>\n",
       "      <td>730700</td>\n",
       "    </tr>\n",
       "  </tbody>\n",
       "</table>\n",
       "<p>18 rows × 266 columns</p>\n",
       "</div>"
      ],
      "text/plain": [
       "    Zipcode   1996-04   1996-05   1996-06   1996-07   1996-08   1996-09  \\\n",
       "0     20002   94300.0   94000.0   93700.0   93600.0   93400.0   93400.0   \n",
       "1     20009  178800.0  179200.0  179600.0  180000.0  180300.0  180700.0   \n",
       "2     20011  118900.0  118500.0  118200.0  117800.0  117600.0  117400.0   \n",
       "3     20019   91300.0   91000.0   90600.0   90400.0   90100.0   89900.0   \n",
       "4     20001   92000.0   92600.0   93200.0   93900.0   94600.0   95400.0   \n",
       "5     20020  104500.0  103800.0  103000.0  102200.0  101400.0  100600.0   \n",
       "6     20008  450100.0  448200.0  446300.0  444500.0  442900.0  441600.0   \n",
       "7     20003  130000.0  130100.0  130200.0  130400.0  130600.0  130900.0   \n",
       "8     20032   85700.0   85500.0   85400.0   85200.0   85000.0   84800.0   \n",
       "9     20016  362000.0  361200.0  360300.0  359400.0  358500.0  357700.0   \n",
       "10    20010  110500.0  111200.0  112000.0  112900.0  113800.0  114900.0   \n",
       "11    20007  358100.0  356000.0  353900.0  351700.0  349600.0  347500.0   \n",
       "12    20024  209800.0  208200.0  206600.0  205000.0  203300.0  201900.0   \n",
       "13    20017  121700.0  121400.0  121200.0  121000.0  120900.0  120900.0   \n",
       "14    20018  123000.0  122400.0  121800.0  121200.0  120700.0  120400.0   \n",
       "15    20037  277800.0  275800.0  273700.0  271600.0  269500.0  267600.0   \n",
       "16    20015  312400.0  311000.0  309800.0  308700.0  307900.0  307400.0   \n",
       "17    20012  185000.0  184900.0  184700.0  184400.0  184100.0  183900.0   \n",
       "\n",
       "     1996-10   1996-11   1996-12  ...  2017-07  2017-08  2017-09  2017-10  \\\n",
       "0    93400.0   93600.0   94000.0  ...   662800   668000   672200   673100   \n",
       "1   181200.0  181800.0  182600.0  ...  1020000  1027500  1034300  1040500   \n",
       "2   117400.0  117500.0  117800.0  ...   582200   586200   591200   593200   \n",
       "3    89700.0   89600.0   89600.0  ...   291100   296300   302500   306700   \n",
       "4    96100.0   96800.0   97700.0  ...   765000   768800   771200   773300   \n",
       "5   100000.0   99500.0   99200.0  ...   314700   317600   321800   324500   \n",
       "6   440700.0  440100.0  440100.0  ...  1501600  1508800  1509700  1506000   \n",
       "7   131400.0  131900.0  132700.0  ...   801000   807200   811900   813400   \n",
       "8    84600.0   84400.0   84200.0  ...   288100   293400   297800   301500   \n",
       "9   357000.0  356500.0  356400.0  ...  1202900  1198700  1196400  1190400   \n",
       "10  116100.0  117400.0  118800.0  ...   732800   741700   750900   756300   \n",
       "11  345800.0  344400.0  343600.0  ...  1329300  1330800  1324900  1314100   \n",
       "12  200500.0  199300.0  198300.0  ...   879200   866900   860100   864500   \n",
       "13  121100.0  121400.0  121900.0  ...   534300   534300   535300   535600   \n",
       "14  120200.0  120200.0  120500.0  ...   533200   535200   534700   533100   \n",
       "15  265800.0  264200.0  263100.0  ...   906400   914900   918700   923400   \n",
       "16  307300.0  307700.0  308800.0  ...  1000500  1004000  1005300  1003700   \n",
       "17  183700.0  183800.0  184200.0  ...   688500   692000   696100   699400   \n",
       "\n",
       "    2017-11  2017-12  2018-01  2018-02  2018-03  2018-04  \n",
       "0    674600   678200   680900   683000   687500   691300  \n",
       "1   1047400  1055400  1065900  1076400  1081000  1078200  \n",
       "2    591200   589500   590800   599100   611400   619100  \n",
       "3    308800   310800   313400   314100   311800   308600  \n",
       "4    777600   780500   781600   785500   791400   793300  \n",
       "5    324800   324900   324900   327300   332800   337000  \n",
       "6   1509100  1514300  1519400  1527900  1539600  1545900  \n",
       "7    814600   814600   815300   817300   820200   820200  \n",
       "8    303700   304000   304600   306800   308200   307400  \n",
       "9   1184800  1183600  1186600  1190000  1196000  1199500  \n",
       "10   759300   761800   763500   767800   774700   778200  \n",
       "11  1303500  1296500  1293000  1291200  1291000  1290000  \n",
       "12   874100   878200   882300   885500   886900   885000  \n",
       "13   532600   531000   534400   542300   548400   548900  \n",
       "14   534500   538700   542200   548300   553800   554100  \n",
       "15   938900   953100   967600   990100  1013500  1019600  \n",
       "16  1002900  1003600  1004400  1006400  1007200  1004000  \n",
       "17   703800   709400   714400   720100   727400   730700  \n",
       "\n",
       "[18 rows x 266 columns]"
      ]
     },
     "execution_count": 8,
     "metadata": {},
     "output_type": "execute_result"
    }
   ],
   "source": [
    "## Reset dataframe index and drop old index related to original zillow dataset\n",
    "df_dc.reset_index(drop=True)"
   ]
  },
  {
   "cell_type": "code",
   "execution_count": 62,
   "metadata": {
    "ExecuteTime": {
     "end_time": "2019-06-18T18:35:23.644907Z",
     "start_time": "2019-06-18T18:35:23.638823Z"
    }
   },
   "outputs": [],
   "source": [
    "##cast all zipcodes to string from integer\n",
    "df_dc[\"Zipcode\"]=df_dc[\"Zipcode\"].astype(str)\n"
   ]
  },
  {
   "cell_type": "code",
   "execution_count": 63,
   "metadata": {
    "ExecuteTime": {
     "end_time": "2019-06-18T18:35:23.886198Z",
     "start_time": "2019-06-18T18:35:23.849861Z"
    },
    "scrolled": true
   },
   "outputs": [
    {
     "data": {
      "text/html": [
       "<div>\n",
       "<style scoped>\n",
       "    .dataframe tbody tr th:only-of-type {\n",
       "        vertical-align: middle;\n",
       "    }\n",
       "\n",
       "    .dataframe tbody tr th {\n",
       "        vertical-align: top;\n",
       "    }\n",
       "\n",
       "    .dataframe thead th {\n",
       "        text-align: right;\n",
       "    }\n",
       "</style>\n",
       "<table border=\"1\" class=\"dataframe\">\n",
       "  <thead>\n",
       "    <tr style=\"text-align: right;\">\n",
       "      <th></th>\n",
       "      <th>29</th>\n",
       "      <th>33</th>\n",
       "      <th>181</th>\n",
       "      <th>246</th>\n",
       "      <th>258</th>\n",
       "      <th>402</th>\n",
       "      <th>1263</th>\n",
       "      <th>1448</th>\n",
       "      <th>1707</th>\n",
       "      <th>2066</th>\n",
       "      <th>2581</th>\n",
       "      <th>2653</th>\n",
       "      <th>5297</th>\n",
       "      <th>5339</th>\n",
       "      <th>5453</th>\n",
       "      <th>5805</th>\n",
       "      <th>6484</th>\n",
       "      <th>6887</th>\n",
       "    </tr>\n",
       "  </thead>\n",
       "  <tbody>\n",
       "    <tr>\n",
       "      <th>Zipcode</th>\n",
       "      <td>20002</td>\n",
       "      <td>20009</td>\n",
       "      <td>20011</td>\n",
       "      <td>20019</td>\n",
       "      <td>20001</td>\n",
       "      <td>20020</td>\n",
       "      <td>20008</td>\n",
       "      <td>20003</td>\n",
       "      <td>20032</td>\n",
       "      <td>20016</td>\n",
       "      <td>20010</td>\n",
       "      <td>20007</td>\n",
       "      <td>20024</td>\n",
       "      <td>20017</td>\n",
       "      <td>20018</td>\n",
       "      <td>20037</td>\n",
       "      <td>20015</td>\n",
       "      <td>20012</td>\n",
       "    </tr>\n",
       "    <tr>\n",
       "      <th>1996-04</th>\n",
       "      <td>94300</td>\n",
       "      <td>178800</td>\n",
       "      <td>118900</td>\n",
       "      <td>91300</td>\n",
       "      <td>92000</td>\n",
       "      <td>104500</td>\n",
       "      <td>450100</td>\n",
       "      <td>130000</td>\n",
       "      <td>85700</td>\n",
       "      <td>362000</td>\n",
       "      <td>110500</td>\n",
       "      <td>358100</td>\n",
       "      <td>209800</td>\n",
       "      <td>121700</td>\n",
       "      <td>123000</td>\n",
       "      <td>277800</td>\n",
       "      <td>312400</td>\n",
       "      <td>185000</td>\n",
       "    </tr>\n",
       "    <tr>\n",
       "      <th>1996-05</th>\n",
       "      <td>94000</td>\n",
       "      <td>179200</td>\n",
       "      <td>118500</td>\n",
       "      <td>91000</td>\n",
       "      <td>92600</td>\n",
       "      <td>103800</td>\n",
       "      <td>448200</td>\n",
       "      <td>130100</td>\n",
       "      <td>85500</td>\n",
       "      <td>361200</td>\n",
       "      <td>111200</td>\n",
       "      <td>356000</td>\n",
       "      <td>208200</td>\n",
       "      <td>121400</td>\n",
       "      <td>122400</td>\n",
       "      <td>275800</td>\n",
       "      <td>311000</td>\n",
       "      <td>184900</td>\n",
       "    </tr>\n",
       "    <tr>\n",
       "      <th>1996-06</th>\n",
       "      <td>93700</td>\n",
       "      <td>179600</td>\n",
       "      <td>118200</td>\n",
       "      <td>90600</td>\n",
       "      <td>93200</td>\n",
       "      <td>103000</td>\n",
       "      <td>446300</td>\n",
       "      <td>130200</td>\n",
       "      <td>85400</td>\n",
       "      <td>360300</td>\n",
       "      <td>112000</td>\n",
       "      <td>353900</td>\n",
       "      <td>206600</td>\n",
       "      <td>121200</td>\n",
       "      <td>121800</td>\n",
       "      <td>273700</td>\n",
       "      <td>309800</td>\n",
       "      <td>184700</td>\n",
       "    </tr>\n",
       "    <tr>\n",
       "      <th>1996-07</th>\n",
       "      <td>93600</td>\n",
       "      <td>180000</td>\n",
       "      <td>117800</td>\n",
       "      <td>90400</td>\n",
       "      <td>93900</td>\n",
       "      <td>102200</td>\n",
       "      <td>444500</td>\n",
       "      <td>130400</td>\n",
       "      <td>85200</td>\n",
       "      <td>359400</td>\n",
       "      <td>112900</td>\n",
       "      <td>351700</td>\n",
       "      <td>205000</td>\n",
       "      <td>121000</td>\n",
       "      <td>121200</td>\n",
       "      <td>271600</td>\n",
       "      <td>308700</td>\n",
       "      <td>184400</td>\n",
       "    </tr>\n",
       "  </tbody>\n",
       "</table>\n",
       "</div>"
      ],
      "text/plain": [
       "          29      33      181    246    258     402     1263    1448   1707  \\\n",
       "Zipcode  20002   20009   20011  20019  20001   20020   20008   20003  20032   \n",
       "1996-04  94300  178800  118900  91300  92000  104500  450100  130000  85700   \n",
       "1996-05  94000  179200  118500  91000  92600  103800  448200  130100  85500   \n",
       "1996-06  93700  179600  118200  90600  93200  103000  446300  130200  85400   \n",
       "1996-07  93600  180000  117800  90400  93900  102200  444500  130400  85200   \n",
       "\n",
       "           2066    2581    2653    5297    5339    5453    5805    6484  \\\n",
       "Zipcode   20016   20010   20007   20024   20017   20018   20037   20015   \n",
       "1996-04  362000  110500  358100  209800  121700  123000  277800  312400   \n",
       "1996-05  361200  111200  356000  208200  121400  122400  275800  311000   \n",
       "1996-06  360300  112000  353900  206600  121200  121800  273700  309800   \n",
       "1996-07  359400  112900  351700  205000  121000  121200  271600  308700   \n",
       "\n",
       "           6887  \n",
       "Zipcode   20012  \n",
       "1996-04  185000  \n",
       "1996-05  184900  \n",
       "1996-06  184700  \n",
       "1996-07  184400  "
      ]
     },
     "execution_count": 63,
     "metadata": {},
     "output_type": "execute_result"
    }
   ],
   "source": [
    "## transpose dates to rows\n",
    "df_dc=df_dc.transpose()\n",
    "df_dc.head()"
   ]
  },
  {
   "cell_type": "code",
   "execution_count": 64,
   "metadata": {
    "ExecuteTime": {
     "end_time": "2019-06-18T18:35:24.090106Z",
     "start_time": "2019-06-18T18:35:24.085469Z"
    },
    "scrolled": true
   },
   "outputs": [],
   "source": [
    "## Renaming all columns to reflect the 18 zipcodes of D.C.\n",
    "\n",
    "new_header=df_dc.iloc[0] ##grab all first row data for the column headers\n",
    "df_dc=df_dc[1:] ## take all rows after first row\n",
    "df_dc.columns=new_header ## assign all column headers to be equal to row 0 data\n"
   ]
  },
  {
   "cell_type": "code",
   "execution_count": 65,
   "metadata": {
    "ExecuteTime": {
     "end_time": "2019-06-18T18:35:24.332389Z",
     "start_time": "2019-06-18T18:35:24.292042Z"
    },
    "scrolled": true
   },
   "outputs": [
    {
     "data": {
      "text/html": [
       "<div>\n",
       "<style scoped>\n",
       "    .dataframe tbody tr th:only-of-type {\n",
       "        vertical-align: middle;\n",
       "    }\n",
       "\n",
       "    .dataframe tbody tr th {\n",
       "        vertical-align: top;\n",
       "    }\n",
       "\n",
       "    .dataframe thead th {\n",
       "        text-align: right;\n",
       "    }\n",
       "</style>\n",
       "<table border=\"1\" class=\"dataframe\">\n",
       "  <thead>\n",
       "    <tr style=\"text-align: right;\">\n",
       "      <th>Zipcode</th>\n",
       "      <th>20002</th>\n",
       "      <th>20009</th>\n",
       "      <th>20011</th>\n",
       "      <th>20019</th>\n",
       "      <th>20001</th>\n",
       "      <th>20020</th>\n",
       "      <th>20008</th>\n",
       "      <th>20003</th>\n",
       "      <th>20032</th>\n",
       "      <th>20016</th>\n",
       "      <th>20010</th>\n",
       "      <th>20007</th>\n",
       "      <th>20024</th>\n",
       "      <th>20017</th>\n",
       "      <th>20018</th>\n",
       "      <th>20037</th>\n",
       "      <th>20015</th>\n",
       "      <th>20012</th>\n",
       "    </tr>\n",
       "  </thead>\n",
       "  <tbody>\n",
       "    <tr>\n",
       "      <th>1996-04</th>\n",
       "      <td>94300</td>\n",
       "      <td>178800</td>\n",
       "      <td>118900</td>\n",
       "      <td>91300</td>\n",
       "      <td>92000</td>\n",
       "      <td>104500</td>\n",
       "      <td>450100</td>\n",
       "      <td>130000</td>\n",
       "      <td>85700</td>\n",
       "      <td>362000</td>\n",
       "      <td>110500</td>\n",
       "      <td>358100</td>\n",
       "      <td>209800</td>\n",
       "      <td>121700</td>\n",
       "      <td>123000</td>\n",
       "      <td>277800</td>\n",
       "      <td>312400</td>\n",
       "      <td>185000</td>\n",
       "    </tr>\n",
       "    <tr>\n",
       "      <th>1996-05</th>\n",
       "      <td>94000</td>\n",
       "      <td>179200</td>\n",
       "      <td>118500</td>\n",
       "      <td>91000</td>\n",
       "      <td>92600</td>\n",
       "      <td>103800</td>\n",
       "      <td>448200</td>\n",
       "      <td>130100</td>\n",
       "      <td>85500</td>\n",
       "      <td>361200</td>\n",
       "      <td>111200</td>\n",
       "      <td>356000</td>\n",
       "      <td>208200</td>\n",
       "      <td>121400</td>\n",
       "      <td>122400</td>\n",
       "      <td>275800</td>\n",
       "      <td>311000</td>\n",
       "      <td>184900</td>\n",
       "    </tr>\n",
       "    <tr>\n",
       "      <th>1996-06</th>\n",
       "      <td>93700</td>\n",
       "      <td>179600</td>\n",
       "      <td>118200</td>\n",
       "      <td>90600</td>\n",
       "      <td>93200</td>\n",
       "      <td>103000</td>\n",
       "      <td>446300</td>\n",
       "      <td>130200</td>\n",
       "      <td>85400</td>\n",
       "      <td>360300</td>\n",
       "      <td>112000</td>\n",
       "      <td>353900</td>\n",
       "      <td>206600</td>\n",
       "      <td>121200</td>\n",
       "      <td>121800</td>\n",
       "      <td>273700</td>\n",
       "      <td>309800</td>\n",
       "      <td>184700</td>\n",
       "    </tr>\n",
       "    <tr>\n",
       "      <th>1996-07</th>\n",
       "      <td>93600</td>\n",
       "      <td>180000</td>\n",
       "      <td>117800</td>\n",
       "      <td>90400</td>\n",
       "      <td>93900</td>\n",
       "      <td>102200</td>\n",
       "      <td>444500</td>\n",
       "      <td>130400</td>\n",
       "      <td>85200</td>\n",
       "      <td>359400</td>\n",
       "      <td>112900</td>\n",
       "      <td>351700</td>\n",
       "      <td>205000</td>\n",
       "      <td>121000</td>\n",
       "      <td>121200</td>\n",
       "      <td>271600</td>\n",
       "      <td>308700</td>\n",
       "      <td>184400</td>\n",
       "    </tr>\n",
       "    <tr>\n",
       "      <th>1996-08</th>\n",
       "      <td>93400</td>\n",
       "      <td>180300</td>\n",
       "      <td>117600</td>\n",
       "      <td>90100</td>\n",
       "      <td>94600</td>\n",
       "      <td>101400</td>\n",
       "      <td>442900</td>\n",
       "      <td>130600</td>\n",
       "      <td>85000</td>\n",
       "      <td>358500</td>\n",
       "      <td>113800</td>\n",
       "      <td>349600</td>\n",
       "      <td>203300</td>\n",
       "      <td>120900</td>\n",
       "      <td>120700</td>\n",
       "      <td>269500</td>\n",
       "      <td>307900</td>\n",
       "      <td>184100</td>\n",
       "    </tr>\n",
       "  </tbody>\n",
       "</table>\n",
       "</div>"
      ],
      "text/plain": [
       "Zipcode  20002   20009   20011  20019  20001   20020   20008   20003  20032  \\\n",
       "1996-04  94300  178800  118900  91300  92000  104500  450100  130000  85700   \n",
       "1996-05  94000  179200  118500  91000  92600  103800  448200  130100  85500   \n",
       "1996-06  93700  179600  118200  90600  93200  103000  446300  130200  85400   \n",
       "1996-07  93600  180000  117800  90400  93900  102200  444500  130400  85200   \n",
       "1996-08  93400  180300  117600  90100  94600  101400  442900  130600  85000   \n",
       "\n",
       "Zipcode   20016   20010   20007   20024   20017   20018   20037   20015  \\\n",
       "1996-04  362000  110500  358100  209800  121700  123000  277800  312400   \n",
       "1996-05  361200  111200  356000  208200  121400  122400  275800  311000   \n",
       "1996-06  360300  112000  353900  206600  121200  121800  273700  309800   \n",
       "1996-07  359400  112900  351700  205000  121000  121200  271600  308700   \n",
       "1996-08  358500  113800  349600  203300  120900  120700  269500  307900   \n",
       "\n",
       "Zipcode   20012  \n",
       "1996-04  185000  \n",
       "1996-05  184900  \n",
       "1996-06  184700  \n",
       "1996-07  184400  \n",
       "1996-08  184100  "
      ]
     },
     "execution_count": 65,
     "metadata": {},
     "output_type": "execute_result"
    }
   ],
   "source": [
    "df_dc.head()"
   ]
  },
  {
   "cell_type": "code",
   "execution_count": 66,
   "metadata": {
    "ExecuteTime": {
     "end_time": "2019-06-18T18:35:24.554720Z",
     "start_time": "2019-06-18T18:35:24.526324Z"
    },
    "scrolled": true
   },
   "outputs": [
    {
     "name": "stdout",
     "output_type": "stream",
     "text": [
      "<class 'pandas.core.frame.DataFrame'>\n",
      "DatetimeIndex: 265 entries, 1996-04-01 to 2018-04-01\n",
      "Data columns (total 18 columns):\n",
      "20002    265 non-null object\n",
      "20009    265 non-null object\n",
      "20011    265 non-null object\n",
      "20019    265 non-null object\n",
      "20001    265 non-null object\n",
      "20020    265 non-null object\n",
      "20008    265 non-null object\n",
      "20003    265 non-null object\n",
      "20032    265 non-null object\n",
      "20016    265 non-null object\n",
      "20010    265 non-null object\n",
      "20007    265 non-null object\n",
      "20024    265 non-null object\n",
      "20017    265 non-null object\n",
      "20018    265 non-null object\n",
      "20037    265 non-null object\n",
      "20015    265 non-null object\n",
      "20012    265 non-null object\n",
      "dtypes: object(18)\n",
      "memory usage: 39.3+ KB\n"
     ]
    }
   ],
   "source": [
    "df_dc.index=pd.to_datetime(df_dc.index)\n",
    "df_dc.info()"
   ]
  },
  {
   "cell_type": "code",
   "execution_count": 67,
   "metadata": {
    "ExecuteTime": {
     "end_time": "2019-06-18T18:35:24.790800Z",
     "start_time": "2019-06-18T18:35:24.739249Z"
    },
    "scrolled": true
   },
   "outputs": [
    {
     "data": {
      "text/html": [
       "<div>\n",
       "<style scoped>\n",
       "    .dataframe tbody tr th:only-of-type {\n",
       "        vertical-align: middle;\n",
       "    }\n",
       "\n",
       "    .dataframe tbody tr th {\n",
       "        vertical-align: top;\n",
       "    }\n",
       "\n",
       "    .dataframe thead th {\n",
       "        text-align: right;\n",
       "    }\n",
       "</style>\n",
       "<table border=\"1\" class=\"dataframe\">\n",
       "  <thead>\n",
       "    <tr style=\"text-align: right;\">\n",
       "      <th>Zipcode</th>\n",
       "      <th>20002</th>\n",
       "      <th>20009</th>\n",
       "      <th>20011</th>\n",
       "      <th>20019</th>\n",
       "      <th>20001</th>\n",
       "      <th>20020</th>\n",
       "      <th>20008</th>\n",
       "      <th>20003</th>\n",
       "      <th>20032</th>\n",
       "      <th>20016</th>\n",
       "      <th>20010</th>\n",
       "      <th>20007</th>\n",
       "      <th>20024</th>\n",
       "      <th>20017</th>\n",
       "      <th>20018</th>\n",
       "      <th>20037</th>\n",
       "      <th>20015</th>\n",
       "      <th>20012</th>\n",
       "    </tr>\n",
       "  </thead>\n",
       "  <tbody>\n",
       "    <tr>\n",
       "      <th>1996-04-01</th>\n",
       "      <td>94300</td>\n",
       "      <td>178800</td>\n",
       "      <td>118900</td>\n",
       "      <td>91300</td>\n",
       "      <td>92000</td>\n",
       "      <td>104500</td>\n",
       "      <td>450100</td>\n",
       "      <td>130000</td>\n",
       "      <td>85700</td>\n",
       "      <td>362000</td>\n",
       "      <td>110500</td>\n",
       "      <td>358100</td>\n",
       "      <td>209800</td>\n",
       "      <td>121700</td>\n",
       "      <td>123000</td>\n",
       "      <td>277800</td>\n",
       "      <td>312400</td>\n",
       "      <td>185000</td>\n",
       "    </tr>\n",
       "    <tr>\n",
       "      <th>1996-05-01</th>\n",
       "      <td>94000</td>\n",
       "      <td>179200</td>\n",
       "      <td>118500</td>\n",
       "      <td>91000</td>\n",
       "      <td>92600</td>\n",
       "      <td>103800</td>\n",
       "      <td>448200</td>\n",
       "      <td>130100</td>\n",
       "      <td>85500</td>\n",
       "      <td>361200</td>\n",
       "      <td>111200</td>\n",
       "      <td>356000</td>\n",
       "      <td>208200</td>\n",
       "      <td>121400</td>\n",
       "      <td>122400</td>\n",
       "      <td>275800</td>\n",
       "      <td>311000</td>\n",
       "      <td>184900</td>\n",
       "    </tr>\n",
       "    <tr>\n",
       "      <th>1996-06-01</th>\n",
       "      <td>93700</td>\n",
       "      <td>179600</td>\n",
       "      <td>118200</td>\n",
       "      <td>90600</td>\n",
       "      <td>93200</td>\n",
       "      <td>103000</td>\n",
       "      <td>446300</td>\n",
       "      <td>130200</td>\n",
       "      <td>85400</td>\n",
       "      <td>360300</td>\n",
       "      <td>112000</td>\n",
       "      <td>353900</td>\n",
       "      <td>206600</td>\n",
       "      <td>121200</td>\n",
       "      <td>121800</td>\n",
       "      <td>273700</td>\n",
       "      <td>309800</td>\n",
       "      <td>184700</td>\n",
       "    </tr>\n",
       "    <tr>\n",
       "      <th>1996-07-01</th>\n",
       "      <td>93600</td>\n",
       "      <td>180000</td>\n",
       "      <td>117800</td>\n",
       "      <td>90400</td>\n",
       "      <td>93900</td>\n",
       "      <td>102200</td>\n",
       "      <td>444500</td>\n",
       "      <td>130400</td>\n",
       "      <td>85200</td>\n",
       "      <td>359400</td>\n",
       "      <td>112900</td>\n",
       "      <td>351700</td>\n",
       "      <td>205000</td>\n",
       "      <td>121000</td>\n",
       "      <td>121200</td>\n",
       "      <td>271600</td>\n",
       "      <td>308700</td>\n",
       "      <td>184400</td>\n",
       "    </tr>\n",
       "    <tr>\n",
       "      <th>1996-08-01</th>\n",
       "      <td>93400</td>\n",
       "      <td>180300</td>\n",
       "      <td>117600</td>\n",
       "      <td>90100</td>\n",
       "      <td>94600</td>\n",
       "      <td>101400</td>\n",
       "      <td>442900</td>\n",
       "      <td>130600</td>\n",
       "      <td>85000</td>\n",
       "      <td>358500</td>\n",
       "      <td>113800</td>\n",
       "      <td>349600</td>\n",
       "      <td>203300</td>\n",
       "      <td>120900</td>\n",
       "      <td>120700</td>\n",
       "      <td>269500</td>\n",
       "      <td>307900</td>\n",
       "      <td>184100</td>\n",
       "    </tr>\n",
       "  </tbody>\n",
       "</table>\n",
       "</div>"
      ],
      "text/plain": [
       "Zipcode     20002   20009   20011  20019  20001   20020   20008   20003  \\\n",
       "1996-04-01  94300  178800  118900  91300  92000  104500  450100  130000   \n",
       "1996-05-01  94000  179200  118500  91000  92600  103800  448200  130100   \n",
       "1996-06-01  93700  179600  118200  90600  93200  103000  446300  130200   \n",
       "1996-07-01  93600  180000  117800  90400  93900  102200  444500  130400   \n",
       "1996-08-01  93400  180300  117600  90100  94600  101400  442900  130600   \n",
       "\n",
       "Zipcode     20032   20016   20010   20007   20024   20017   20018   20037  \\\n",
       "1996-04-01  85700  362000  110500  358100  209800  121700  123000  277800   \n",
       "1996-05-01  85500  361200  111200  356000  208200  121400  122400  275800   \n",
       "1996-06-01  85400  360300  112000  353900  206600  121200  121800  273700   \n",
       "1996-07-01  85200  359400  112900  351700  205000  121000  121200  271600   \n",
       "1996-08-01  85000  358500  113800  349600  203300  120900  120700  269500   \n",
       "\n",
       "Zipcode      20015   20012  \n",
       "1996-04-01  312400  185000  \n",
       "1996-05-01  311000  184900  \n",
       "1996-06-01  309800  184700  \n",
       "1996-07-01  308700  184400  \n",
       "1996-08-01  307900  184100  "
      ]
     },
     "execution_count": 67,
     "metadata": {},
     "output_type": "execute_result"
    }
   ],
   "source": [
    "df_dc.reset_index()\n",
    "df_dc.head()"
   ]
  },
  {
   "cell_type": "code",
   "execution_count": 68,
   "metadata": {
    "ExecuteTime": {
     "end_time": "2019-06-18T18:47:59.994445Z",
     "start_time": "2019-06-18T18:47:59.989269Z"
    },
    "scrolled": true
   },
   "outputs": [],
   "source": [
    "## cast all prices from strings to integers\n",
    "df_dc=df_dc.astype(int)\n"
   ]
  },
  {
   "cell_type": "code",
   "execution_count": 81,
   "metadata": {},
   "outputs": [],
   "source": [
    "df_dc=df_dc['2010-01-01':'2018-01-04']"
   ]
  },
  {
   "cell_type": "code",
   "execution_count": 82,
   "metadata": {},
   "outputs": [
    {
     "data": {
      "text/html": [
       "<div>\n",
       "<style scoped>\n",
       "    .dataframe tbody tr th:only-of-type {\n",
       "        vertical-align: middle;\n",
       "    }\n",
       "\n",
       "    .dataframe tbody tr th {\n",
       "        vertical-align: top;\n",
       "    }\n",
       "\n",
       "    .dataframe thead th {\n",
       "        text-align: right;\n",
       "    }\n",
       "</style>\n",
       "<table border=\"1\" class=\"dataframe\">\n",
       "  <thead>\n",
       "    <tr style=\"text-align: right;\">\n",
       "      <th>Zipcode</th>\n",
       "      <th>20002</th>\n",
       "      <th>20009</th>\n",
       "      <th>20011</th>\n",
       "      <th>20019</th>\n",
       "      <th>20001</th>\n",
       "      <th>20020</th>\n",
       "      <th>20008</th>\n",
       "      <th>20003</th>\n",
       "      <th>20032</th>\n",
       "      <th>20016</th>\n",
       "      <th>20010</th>\n",
       "      <th>20007</th>\n",
       "      <th>20024</th>\n",
       "      <th>20017</th>\n",
       "      <th>20018</th>\n",
       "      <th>20037</th>\n",
       "      <th>20015</th>\n",
       "      <th>20012</th>\n",
       "    </tr>\n",
       "  </thead>\n",
       "  <tbody>\n",
       "    <tr>\n",
       "      <th>2010-01-01</th>\n",
       "      <td>365300</td>\n",
       "      <td>689200</td>\n",
       "      <td>318800</td>\n",
       "      <td>196300</td>\n",
       "      <td>409300</td>\n",
       "      <td>236600</td>\n",
       "      <td>1242500</td>\n",
       "      <td>561700</td>\n",
       "      <td>195900</td>\n",
       "      <td>918300</td>\n",
       "      <td>436000</td>\n",
       "      <td>983900</td>\n",
       "      <td>605900</td>\n",
       "      <td>294600</td>\n",
       "      <td>300100</td>\n",
       "      <td>754900</td>\n",
       "      <td>822100</td>\n",
       "      <td>474500</td>\n",
       "    </tr>\n",
       "    <tr>\n",
       "      <th>2010-02-01</th>\n",
       "      <td>365000</td>\n",
       "      <td>689000</td>\n",
       "      <td>319600</td>\n",
       "      <td>196200</td>\n",
       "      <td>410300</td>\n",
       "      <td>237700</td>\n",
       "      <td>1242600</td>\n",
       "      <td>562000</td>\n",
       "      <td>195600</td>\n",
       "      <td>920000</td>\n",
       "      <td>436700</td>\n",
       "      <td>985100</td>\n",
       "      <td>607100</td>\n",
       "      <td>294900</td>\n",
       "      <td>301000</td>\n",
       "      <td>754300</td>\n",
       "      <td>823200</td>\n",
       "      <td>475000</td>\n",
       "    </tr>\n",
       "    <tr>\n",
       "      <th>2010-03-01</th>\n",
       "      <td>365600</td>\n",
       "      <td>692600</td>\n",
       "      <td>318800</td>\n",
       "      <td>195200</td>\n",
       "      <td>411200</td>\n",
       "      <td>235700</td>\n",
       "      <td>1241600</td>\n",
       "      <td>564300</td>\n",
       "      <td>195000</td>\n",
       "      <td>921500</td>\n",
       "      <td>437100</td>\n",
       "      <td>986700</td>\n",
       "      <td>612900</td>\n",
       "      <td>296500</td>\n",
       "      <td>300100</td>\n",
       "      <td>754200</td>\n",
       "      <td>823800</td>\n",
       "      <td>476600</td>\n",
       "    </tr>\n",
       "    <tr>\n",
       "      <th>2010-04-01</th>\n",
       "      <td>368500</td>\n",
       "      <td>700300</td>\n",
       "      <td>314800</td>\n",
       "      <td>193200</td>\n",
       "      <td>414000</td>\n",
       "      <td>228800</td>\n",
       "      <td>1229400</td>\n",
       "      <td>569600</td>\n",
       "      <td>193400</td>\n",
       "      <td>923700</td>\n",
       "      <td>436800</td>\n",
       "      <td>989000</td>\n",
       "      <td>622700</td>\n",
       "      <td>297500</td>\n",
       "      <td>297200</td>\n",
       "      <td>757000</td>\n",
       "      <td>823700</td>\n",
       "      <td>480000</td>\n",
       "    </tr>\n",
       "    <tr>\n",
       "      <th>2010-05-01</th>\n",
       "      <td>370200</td>\n",
       "      <td>705900</td>\n",
       "      <td>311400</td>\n",
       "      <td>191600</td>\n",
       "      <td>416000</td>\n",
       "      <td>224400</td>\n",
       "      <td>1213100</td>\n",
       "      <td>573100</td>\n",
       "      <td>191000</td>\n",
       "      <td>926300</td>\n",
       "      <td>434700</td>\n",
       "      <td>990800</td>\n",
       "      <td>629100</td>\n",
       "      <td>297800</td>\n",
       "      <td>295400</td>\n",
       "      <td>761000</td>\n",
       "      <td>823400</td>\n",
       "      <td>481200</td>\n",
       "    </tr>\n",
       "  </tbody>\n",
       "</table>\n",
       "</div>"
      ],
      "text/plain": [
       "Zipcode      20002   20009   20011   20019   20001   20020    20008   20003  \\\n",
       "2010-01-01  365300  689200  318800  196300  409300  236600  1242500  561700   \n",
       "2010-02-01  365000  689000  319600  196200  410300  237700  1242600  562000   \n",
       "2010-03-01  365600  692600  318800  195200  411200  235700  1241600  564300   \n",
       "2010-04-01  368500  700300  314800  193200  414000  228800  1229400  569600   \n",
       "2010-05-01  370200  705900  311400  191600  416000  224400  1213100  573100   \n",
       "\n",
       "Zipcode      20032   20016   20010   20007   20024   20017   20018   20037  \\\n",
       "2010-01-01  195900  918300  436000  983900  605900  294600  300100  754900   \n",
       "2010-02-01  195600  920000  436700  985100  607100  294900  301000  754300   \n",
       "2010-03-01  195000  921500  437100  986700  612900  296500  300100  754200   \n",
       "2010-04-01  193400  923700  436800  989000  622700  297500  297200  757000   \n",
       "2010-05-01  191000  926300  434700  990800  629100  297800  295400  761000   \n",
       "\n",
       "Zipcode      20015   20012  \n",
       "2010-01-01  822100  474500  \n",
       "2010-02-01  823200  475000  \n",
       "2010-03-01  823800  476600  \n",
       "2010-04-01  823700  480000  \n",
       "2010-05-01  823400  481200  "
      ]
     },
     "execution_count": 82,
     "metadata": {},
     "output_type": "execute_result"
    }
   ],
   "source": [
    "df_dc.head()"
   ]
  },
  {
   "cell_type": "markdown",
   "metadata": {},
   "source": [
    "### Plotting Zipcode Trends:\n"
   ]
  },
  {
   "cell_type": "code",
   "execution_count": 83,
   "metadata": {
    "ExecuteTime": {
     "end_time": "2019-06-18T18:52:53.825888Z",
     "start_time": "2019-06-18T18:52:53.212779Z"
    },
    "scrolled": false
   },
   "outputs": [
    {
     "data": {
      "text/plain": [
       "<matplotlib.axes._subplots.AxesSubplot at 0x1c1ee79d30>"
      ]
     },
     "execution_count": 83,
     "metadata": {},
     "output_type": "execute_result"
    },
    {
     "data": {
      "image/png": "[encoded data removed]",
      "text/plain": [
       "<Figure size 1224x576 with 1 Axes>"
      ]
     },
     "metadata": {
      "needs_background": "light"
     },
     "output_type": "display_data"
    }
   ],
   "source": [
    "df_dc.plot(figsize=(17,8))\n",
    "##top 3 zip codes have consistently been top 3 performers for the last 20 years\n",
    "## bottom 3 zipcodes display little change over time in price compared to top priced zip codes\n",
    "## all zip codes display a similar trend with a an inflection point for the year 2008 (housing recession)\n"
   ]
  },
  {
   "cell_type": "markdown",
   "metadata": {},
   "source": [
    "### Testing for Stationarity:"
   ]
  },
  {
   "cell_type": "code",
   "execution_count": 84,
   "metadata": {
    "ExecuteTime": {
     "end_time": "2019-06-18T18:35:26.233732Z",
     "start_time": "2019-06-18T18:35:26.216002Z"
    }
   },
   "outputs": [],
   "source": [
    "#function to plot rolling mean and SD:\n",
    "def test_stationarity(timeseries, window):\n",
    "    \n",
    "    #Defining rolling statistics\n",
    "    rolmean = timeseries.rolling(window=window).mean()\n",
    "    rolstd = timeseries.rolling(window=window).std()\n",
    "\n",
    "    #Plot rolling statistics:\n",
    "    fig = plt.figure(figsize=(12, 8))\n",
    "    orig = plt.plot(timeseries.iloc[window:], color='blue',label='Original')\n",
    "    mean = plt.plot(rolmean, color='red', label='Rolling Mean')\n",
    "    std = plt.plot(rolstd, color='black', label = 'Rolling Std')\n",
    "    plt.legend(loc='upper left')\n",
    "    plt.title('Rolling Mean & Standard Deviation')\n",
    "    plt.show()\n",
    "    "
   ]
  },
  {
   "cell_type": "code",
   "execution_count": 85,
   "metadata": {},
   "outputs": [],
   "source": [
    "def dickey_fuller_test_ind_zip(zip_code):\n",
    "    dftest = adfuller(zip_code)\n",
    "\n",
    "    # Extract and display test results in a user friendly manner\n",
    "    dfoutput = pd.Series(dftest[0:4], index=['Test Statistic','p-value','#Lags Used','Number of Observations Used'])\n",
    "    for key,value in dftest[4].items():\n",
    "        dfoutput['Critical Value (%s)'%key] = value\n",
    "    print(dftest)\n",
    "\n",
    "    print ('Results of Dickey-Fuller Test:')\n",
    "\n",
    "    print(dfoutput)"
   ]
  },
  {
   "cell_type": "code",
   "execution_count": 86,
   "metadata": {
    "ExecuteTime": {
     "end_time": "2019-06-18T20:10:00.620812Z",
     "start_time": "2019-06-18T20:10:00.612340Z"
    }
   },
   "outputs": [],
   "source": [
    "def dickey_fuller_test_all_zip(df_dc):\n",
    "    for col in df_dc.columns:\n",
    "        dftest = adfuller(df_dc[col])\n",
    "        dfoutput = pd.Series(dftest[0:4], index=['Test Statistic','p-value','#Lags Used','Number of Observations Used'])\n",
    "#         for key,value in dftest[4].items():\n",
    "#             dfoutput['Critical Value (%s)'%key] = value\n",
    "        print(dftest)\n",
    "\n",
    "        print ('Results of Dickey-Fuller Test:')\n",
    "        print ('\\n')\n",
    "        print(dfoutput)    "
   ]
  },
  {
   "cell_type": "code",
   "execution_count": 87,
   "metadata": {
    "ExecuteTime": {
     "end_time": "2019-06-18T20:10:28.698460Z",
     "start_time": "2019-06-18T20:10:28.266946Z"
    }
   },
   "outputs": [
    {
     "name": "stdout",
     "output_type": "stream",
     "text": [
      "(0.053414602873903975, 0.962732745333447, 7, 89, {'1%': -3.506057133647011, '5%': -2.8946066061911946, '10%': -2.5844100201994697}, 1401.1662501168644)\n",
      "Results of Dickey-Fuller Test:\n",
      "\n",
      "\n",
      "Test Statistic                  0.053415\n",
      "p-value                         0.962733\n",
      "#Lags Used                      7.000000\n",
      "Number of Observations Used    89.000000\n",
      "dtype: float64\n",
      "(2.7622518846048294, 1.0, 7, 89, {'1%': -3.506057133647011, '5%': -2.8946066061911946, '10%': -2.5844100201994697}, 1438.4954331961253)\n",
      "Results of Dickey-Fuller Test:\n",
      "\n",
      "\n",
      "Test Statistic                  2.762252\n",
      "p-value                         1.000000\n",
      "#Lags Used                      7.000000\n",
      "Number of Observations Used    89.000000\n",
      "dtype: float64\n",
      "(0.02278884230506515, 0.9603766185477403, 11, 85, {'1%': -3.5097356063504983, '5%': -2.8961947486260944, '10%': -2.5852576124567475}, 1394.5681416327166)\n",
      "Results of Dickey-Fuller Test:\n",
      "\n",
      "\n",
      "Test Statistic                  0.022789\n",
      "p-value                         0.960377\n",
      "#Lags Used                     11.000000\n",
      "Number of Observations Used    85.000000\n",
      "dtype: float64\n",
      "(0.767688899770786, 0.99109629175295, 3, 93, {'1%': -3.502704609582561, '5%': -2.8931578098779522, '10%': -2.583636712914788}, 1318.7234193238821)\n",
      "Results of Dickey-Fuller Test:\n",
      "\n",
      "\n",
      "Test Statistic                  0.767689\n",
      "p-value                         0.991096\n",
      "#Lags Used                      3.000000\n",
      "Number of Observations Used    93.000000\n",
      "dtype: float64\n",
      "(-0.25557706589539814, 0.9315645575538933, 8, 88, {'1%': -3.506944401824286, '5%': -2.894989819214876, '10%': -2.584614550619835}, 1456.3055829346556)\n",
      "Results of Dickey-Fuller Test:\n",
      "\n",
      "\n",
      "Test Statistic                 -0.255577\n",
      "p-value                         0.931565\n",
      "#Lags Used                      8.000000\n",
      "Number of Observations Used    88.000000\n",
      "dtype: float64\n",
      "(-1.1588038972058505, 0.6910615976863178, 5, 91, {'1%': -3.50434289821397, '5%': -2.8938659630479413, '10%': -2.5840147047458037}, 1339.654282153165)\n",
      "Results of Dickey-Fuller Test:\n",
      "\n",
      "\n",
      "Test Statistic                 -1.158804\n",
      "p-value                         0.691062\n",
      "#Lags Used                      5.000000\n",
      "Number of Observations Used    91.000000\n",
      "dtype: float64\n",
      "(0.48876692108249786, 0.9845276471890124, 7, 89, {'1%': -3.506057133647011, '5%': -2.8946066061911946, '10%': -2.5844100201994697}, 1613.8458081738186)\n",
      "Results of Dickey-Fuller Test:\n",
      "\n",
      "\n",
      "Test Statistic                  0.488767\n",
      "p-value                         0.984528\n",
      "#Lags Used                      7.000000\n",
      "Number of Observations Used    89.000000\n",
      "dtype: float64\n",
      "(0.7497937288838129, 0.9907809609485838, 11, 85, {'1%': -3.5097356063504983, '5%': -2.8961947486260944, '10%': -2.5852576124567475}, 1408.571728940676)\n",
      "Results of Dickey-Fuller Test:\n",
      "\n",
      "\n",
      "Test Statistic                  0.749794\n",
      "p-value                         0.990781\n",
      "#Lags Used                     11.000000\n",
      "Number of Observations Used    85.000000\n",
      "dtype: float64\n",
      "(0.9627795506016553, 0.9938572842266158, 9, 87, {'1%': -3.5078527246648834, '5%': -2.895382030636155, '10%': -2.584823877658872}, 1399.9102785303735)\n",
      "Results of Dickey-Fuller Test:\n",
      "\n",
      "\n",
      "Test Statistic                  0.962780\n",
      "p-value                         0.993857\n",
      "#Lags Used                      9.000000\n",
      "Number of Observations Used    87.000000\n",
      "dtype: float64\n",
      "(0.13033954057976993, 0.968072501392827, 4, 92, {'1%': -3.503514579651927, '5%': -2.893507960466837, '10%': -2.583823615311909}, 1501.0623344159444)\n",
      "Results of Dickey-Fuller Test:\n",
      "\n",
      "\n",
      "Test Statistic                  0.130340\n",
      "p-value                         0.968073\n",
      "#Lags Used                      4.000000\n",
      "Number of Observations Used    92.000000\n",
      "dtype: float64\n",
      "(-0.31446595970391084, 0.9234303844336548, 5, 91, {'1%': -3.50434289821397, '5%': -2.8938659630479413, '10%': -2.5840147047458037}, 1454.2215455670678)\n",
      "Results of Dickey-Fuller Test:\n",
      "\n",
      "\n",
      "Test Statistic                 -0.314466\n",
      "p-value                         0.923430\n",
      "#Lags Used                      5.000000\n",
      "Number of Observations Used    91.000000\n",
      "dtype: float64\n",
      "(1.1615599346681635, 0.9957092347046591, 11, 85, {'1%': -3.5097356063504983, '5%': -2.8961947486260944, '10%': -2.5852576124567475}, 1549.9152886317881)\n",
      "Results of Dickey-Fuller Test:\n",
      "\n",
      "\n",
      "Test Statistic                  1.161560\n",
      "p-value                         0.995709\n",
      "#Lags Used                     11.000000\n",
      "Number of Observations Used    85.000000\n",
      "dtype: float64\n",
      "(0.8561672642420624, 0.9924907876952052, 10, 86, {'1%': -3.5087828609430614, '5%': -2.895783561573195, '10%': -2.5850381719848565}, 1584.276487937055)\n",
      "Results of Dickey-Fuller Test:\n",
      "\n",
      "\n",
      "Test Statistic                  0.856167\n",
      "p-value                         0.992491\n",
      "#Lags Used                     10.000000\n",
      "Number of Observations Used    86.000000\n",
      "dtype: float64\n",
      "(0.5986126604827509, 0.9875813836692375, 7, 89, {'1%': -3.506057133647011, '5%': -2.8946066061911946, '10%': -2.5844100201994697}, 1408.3091360088713)\n",
      "Results of Dickey-Fuller Test:\n",
      "\n",
      "\n",
      "Test Statistic                  0.598613\n",
      "p-value                         0.987581\n",
      "#Lags Used                      7.000000\n",
      "Number of Observations Used    89.000000\n",
      "dtype: float64\n",
      "(2.1785748433514103, 0.998864408661319, 7, 89, {'1%': -3.506057133647011, '5%': -2.8946066061911946, '10%': -2.5844100201994697}, 1402.2615608345616)\n",
      "Results of Dickey-Fuller Test:\n",
      "\n",
      "\n",
      "Test Statistic                  2.178575\n",
      "p-value                         0.998864\n",
      "#Lags Used                      7.000000\n",
      "Number of Observations Used    89.000000\n",
      "dtype: float64\n",
      "(0.2170053750491648, 0.973199406521426, 7, 89, {'1%': -3.506057133647011, '5%': -2.8946066061911946, '10%': -2.5844100201994697}, 1612.786604091196)\n",
      "Results of Dickey-Fuller Test:\n",
      "\n",
      "\n",
      "Test Statistic                  0.217005\n",
      "p-value                         0.973199\n",
      "#Lags Used                      7.000000\n",
      "Number of Observations Used    89.000000\n",
      "dtype: float64\n",
      "(-0.22699629734985316, 0.9352262918657084, 8, 88, {'1%': -3.506944401824286, '5%': -2.894989819214876, '10%': -2.584614550619835}, 1458.097088569843)\n",
      "Results of Dickey-Fuller Test:\n",
      "\n",
      "\n",
      "Test Statistic                 -0.226996\n",
      "p-value                         0.935226\n",
      "#Lags Used                      8.000000\n",
      "Number of Observations Used    88.000000\n",
      "dtype: float64\n",
      "(0.1672491878801672, 0.9703637066508733, 7, 89, {'1%': -3.506057133647011, '5%': -2.8946066061911946, '10%': -2.5844100201994697}, 1418.343387044068)\n",
      "Results of Dickey-Fuller Test:\n",
      "\n",
      "\n",
      "Test Statistic                  0.167249\n",
      "p-value                         0.970364\n",
      "#Lags Used                      7.000000\n",
      "Number of Observations Used    89.000000\n",
      "dtype: float64\n"
     ]
    }
   ],
   "source": [
    "dickey_fuller_test_all_zip(df_dc)"
   ]
  },
  {
   "cell_type": "markdown",
   "metadata": {
    "ExecuteTime": {
     "end_time": "2019-06-18T15:40:38.972014Z",
     "start_time": "2019-06-18T15:40:38.953042Z"
    }
   },
   "source": [
    "### Detrending data:"
   ]
  },
  {
   "cell_type": "markdown",
   "metadata": {},
   "source": [
    "## Group 1 Zipcodes: High Performance:  20008, 2007, 20016"
   ]
  },
  {
   "cell_type": "markdown",
   "metadata": {},
   "source": [
    "#### Zipcode 20008"
   ]
  },
  {
   "cell_type": "code",
   "execution_count": 88,
   "metadata": {},
   "outputs": [
    {
     "name": "stdout",
     "output_type": "stream",
     "text": [
      "(0.48876692108249786, 0.9845276471890124, 7, 89, {'1%': -3.506057133647011, '5%': -2.8946066061911946, '10%': -2.5844100201994697}, 1613.8458081738186)\n",
      "Results of Dickey-Fuller Test:\n",
      "Test Statistic                  0.488767\n",
      "p-value                         0.984528\n",
      "#Lags Used                      7.000000\n",
      "Number of Observations Used    89.000000\n",
      "Critical Value (1%)            -3.506057\n",
      "Critical Value (5%)            -2.894607\n",
      "Critical Value (10%)           -2.584410\n",
      "dtype: float64\n"
     ]
    }
   ],
   "source": [
    "dickey_fuller_test_ind_zip(df_dc['20008'])"
   ]
  },
  {
   "cell_type": "code",
   "execution_count": 89,
   "metadata": {},
   "outputs": [
    {
     "data": {
      "image/png": "[encoded data removed]",
      "text/plain": [
       "<Figure size 864x576 with 1 Axes>"
      ]
     },
     "metadata": {
      "needs_background": "light"
     },
     "output_type": "display_data"
    }
   ],
   "source": [
    "test_stationarity(df_dc['20008'], 12)"
   ]
  },
  {
   "cell_type": "code",
   "execution_count": 26,
   "metadata": {},
   "outputs": [],
   "source": [
    "## Log transformation on zipcode 20008 and then perfomed Dickey_fuller test\n",
    "##after transformation, p-value within critical range and can reject null hypothesis (stationry assumption met)"
   ]
  },
  {
   "cell_type": "code",
   "execution_count": 90,
   "metadata": {
    "ExecuteTime": {
     "end_time": "2019-06-18T19:43:55.845327Z",
     "start_time": "2019-06-18T19:43:55.577708Z"
    }
   },
   "outputs": [
    {
     "name": "stdout",
     "output_type": "stream",
     "text": [
      "(0.33432563311822106, 0.9788656639872323, 7, 89, {'1%': -3.506057133647011, '5%': -2.8946066061911946, '10%': -2.5844100201994697}, -754.2011409347954)\n",
      "Results of Dickey-Fuller Test:\n",
      "Test Statistic                  0.334326\n",
      "p-value                         0.978866\n",
      "#Lags Used                      7.000000\n",
      "Number of Observations Used    89.000000\n",
      "Critical Value (1%)            -3.506057\n",
      "Critical Value (5%)            -2.894607\n",
      "Critical Value (10%)           -2.584410\n",
      "dtype: float64\n"
     ]
    }
   ],
   "source": [
    "#log transformation and dickey-fuller test for 20008 zip code\n",
    "log_20008 = pd.Series(np.log(df_dc[\"20008\"]))\n",
    "dickey_fuller_test_ind_zip(log_20008)"
   ]
  },
  {
   "cell_type": "code",
   "execution_count": 91,
   "metadata": {},
   "outputs": [
    {
     "data": {
      "image/png": "[encoded data removed]",
      "text/plain": [
       "<Figure size 864x576 with 1 Axes>"
      ]
     },
     "metadata": {
      "needs_background": "light"
     },
     "output_type": "display_data"
    }
   ],
   "source": [
    "test_stationarity(log_20008, 12)"
   ]
  },
  {
   "cell_type": "code",
   "execution_count": 92,
   "metadata": {},
   "outputs": [
    {
     "name": "stdout",
     "output_type": "stream",
     "text": [
      "(0.33432563311822106, 0.9788656639872323, 7, 89, {'1%': -3.506057133647011, '5%': -2.8946066061911946, '10%': -2.5844100201994697}, -754.2011409347954)\n",
      "Results of Dickey-Fuller Test:\n",
      "Test Statistic                  0.334326\n",
      "p-value                         0.978866\n",
      "#Lags Used                      7.000000\n",
      "Number of Observations Used    89.000000\n",
      "Critical Value (1%)            -3.506057\n",
      "Critical Value (5%)            -2.894607\n",
      "Critical Value (10%)           -2.584410\n",
      "dtype: float64\n"
     ]
    }
   ],
   "source": [
    "dickey_fuller_test_ind_zip(log_20008)"
   ]
  },
  {
   "cell_type": "code",
   "execution_count": null,
   "metadata": {},
   "outputs": [],
   "source": [
    "dickey_fuller_test_ind_zip(log_20008)"
   ]
  },
  {
   "cell_type": "markdown",
   "metadata": {},
   "source": [
    "## Group 2: High Medium Performing Zipcodes:  20024, 20009, 20015, 20018, 20037"
   ]
  },
  {
   "cell_type": "markdown",
   "metadata": {},
   "source": [
    "#### Zipcode 20024: "
   ]
  },
  {
   "cell_type": "code",
   "execution_count": 93,
   "metadata": {},
   "outputs": [
    {
     "name": "stdout",
     "output_type": "stream",
     "text": [
      "(0.8561672642420624, 0.9924907876952052, 10, 86, {'1%': -3.5087828609430614, '5%': -2.895783561573195, '10%': -2.5850381719848565}, 1584.276487937055)\n",
      "Results of Dickey-Fuller Test:\n",
      "Test Statistic                  0.856167\n",
      "p-value                         0.992491\n",
      "#Lags Used                     10.000000\n",
      "Number of Observations Used    86.000000\n",
      "Critical Value (1%)            -3.508783\n",
      "Critical Value (5%)            -2.895784\n",
      "Critical Value (10%)           -2.585038\n",
      "dtype: float64\n"
     ]
    }
   ],
   "source": [
    "dickey_fuller_test_ind_zip(df_dc['20024'])\n"
   ]
  },
  {
   "cell_type": "code",
   "execution_count": 94,
   "metadata": {},
   "outputs": [
    {
     "data": {
      "image/png": "[encoded data removed]",
      "text/plain": [
       "<Figure size 864x576 with 1 Axes>"
      ]
     },
     "metadata": {
      "needs_background": "light"
     },
     "output_type": "display_data"
    }
   ],
   "source": [
    "test_stationarity(df_dc['20024'], 12)"
   ]
  },
  {
   "cell_type": "code",
   "execution_count": 95,
   "metadata": {
    "ExecuteTime": {
     "end_time": "2019-06-18T19:50:44.277968Z",
     "start_time": "2019-06-18T19:50:44.070894Z"
    }
   },
   "outputs": [
    {
     "name": "stdout",
     "output_type": "stream",
     "text": [
      "(-2.603445237924988, 0.0922872954620318, 15, 249, {'1%': -3.4568881317725864, '5%': -2.8732185133016057, '10%': -2.5729936189738876}, -2231.6379239934095)\n",
      "Results of Dickey-Fuller Test:\n",
      "Test Statistic                  -2.603445\n",
      "p-value                          0.092287\n",
      "#Lags Used                      15.000000\n",
      "Number of Observations Used    249.000000\n",
      "Critical Value (1%)             -3.456888\n",
      "Critical Value (5%)             -2.873219\n",
      "Critical Value (10%)            -2.572994\n",
      "dtype: float64\n"
     ]
    }
   ],
   "source": [
    "#log transformation and DF test for 20024 zip code\n",
    "log_20037 = pd.Series(np.log(df_dc[\"20024\"]))\n",
    "dickey_fuller_test_ind_zip(log_20024)\n"
   ]
  },
  {
   "cell_type": "code",
   "execution_count": 99,
   "metadata": {},
   "outputs": [
    {
     "data": {
      "text/plain": [
       "1996-04-01         NaN\n",
       "1996-05-01         NaN\n",
       "1996-06-01         NaN\n",
       "1996-07-01         NaN\n",
       "1996-08-01         NaN\n",
       "1996-09-01         NaN\n",
       "1996-10-01         NaN\n",
       "1996-11-01         NaN\n",
       "1996-12-01         NaN\n",
       "1997-01-01         NaN\n",
       "1997-02-01         NaN\n",
       "1997-03-01         NaN\n",
       "1997-04-01         NaN\n",
       "1997-05-01         NaN\n",
       "1997-06-01         NaN\n",
       "1997-07-01         NaN\n",
       "1997-08-01         NaN\n",
       "1997-09-01         NaN\n",
       "1997-10-01         NaN\n",
       "1997-11-01         NaN\n",
       "1997-12-01         NaN\n",
       "1998-01-01         NaN\n",
       "1998-02-01         NaN\n",
       "1998-03-01         NaN\n",
       "1998-04-01   -0.026565\n",
       "Name: 20024, dtype: float64"
      ]
     },
     "execution_count": 99,
     "metadata": {},
     "output_type": "execute_result"
    }
   ],
   "source": [
    "#dc_diff_20024 = log_20024.diff(periods=12)\n",
    "dc_diff_20024 = log_20024.diff(periods=24)\n",
    "dc_diff_20024.head(25)\n"
   ]
  },
  {
   "cell_type": "code",
   "execution_count": 101,
   "metadata": {},
   "outputs": [
    {
     "data": {
      "text/plain": [
       "2000-04-01    0.238010\n",
       "2000-05-01    0.240850\n",
       "2000-06-01    0.243908\n",
       "2000-07-01    0.247277\n",
       "2000-08-01    0.250474\n",
       "Name: 20024, dtype: float64"
      ]
     },
     "execution_count": 101,
     "metadata": {},
     "output_type": "execute_result"
    }
   ],
   "source": [
    "dc_diff_20024=dc_diff_20024[24:]\n",
    "dc_diff_20024.head()"
   ]
  },
  {
   "cell_type": "code",
   "execution_count": 102,
   "metadata": {},
   "outputs": [
    {
     "name": "stdout",
     "output_type": "stream",
     "text": [
      "(-2.3676934234994516, 0.1510630404448231, 15, 201, {'1%': -3.4633090972761744, '5%': -2.876029332045744, '10%': -2.5744932593252643}, -1608.192633602823)\n",
      "Results of Dickey-Fuller Test:\n",
      "Test Statistic                  -2.367693\n",
      "p-value                          0.151063\n",
      "#Lags Used                      15.000000\n",
      "Number of Observations Used    201.000000\n",
      "Critical Value (1%)             -3.463309\n",
      "Critical Value (5%)             -2.876029\n",
      "Critical Value (10%)            -2.574493\n",
      "dtype: float64\n"
     ]
    }
   ],
   "source": [
    "dickey_fuller_test_ind_zip(dc_diff_20024)"
   ]
  },
  {
   "cell_type": "code",
   "execution_count": 38,
   "metadata": {
    "collapsed": true
   },
   "outputs": [
    {
     "data": {
      "image/png": "[encoded data removed]",
      "text/plain": [
       "<Figure size 792x504 with 1 Axes>"
      ]
     },
     "metadata": {
      "needs_background": "light"
     },
     "output_type": "display_data"
    }
   ],
   "source": [
    "# fig = plt.figure(figsize=(11,7))\n",
    "# plt.plot(dc_diff_20024, color='blue',label='Sales - rolling mean')\n",
    "# plt.legend(loc='best')\n",
    "# plt.title('Differenced sales series')\n",
    "# plt.show(block=False)"
   ]
  },
  {
   "cell_type": "code",
   "execution_count": 40,
   "metadata": {},
   "outputs": [
    {
     "data": {
      "image/png": "[encoded data removed]",
      "text/plain": [
       "<Figure size 864x576 with 1 Axes>"
      ]
     },
     "metadata": {
      "needs_background": "light"
     },
     "output_type": "display_data"
    }
   ],
   "source": [
    "test_stationarity(dc_diff_20037, 12)"
   ]
  },
  {
   "cell_type": "code",
   "execution_count": 41,
   "metadata": {
    "collapsed": true
   },
   "outputs": [
    {
     "name": "stdout",
     "output_type": "stream",
     "text": [
      "(-2.503177305067038, 0.114703164902278, 15, 237, {'1%': -3.4582467982399105, '5%': -2.8738137461081323, '10%': -2.5733111490323846}, -1949.9386005099109)\n",
      "Results of Dickey-Fuller Test:\n",
      "Test Statistic                  -2.503177\n",
      "p-value                          0.114703\n",
      "#Lags Used                      15.000000\n",
      "Number of Observations Used    237.000000\n",
      "Critical Value (1%)             -3.458247\n",
      "Critical Value (5%)             -2.873814\n",
      "Critical Value (10%)            -2.573311\n",
      "dtype: float64\n"
     ]
    }
   ],
   "source": [
    "dickey_fuller_test_ind_zip(dc_diff_20024)\n"
   ]
  },
  {
   "cell_type": "code",
   "execution_count": null,
   "metadata": {},
   "outputs": [],
   "source": [
    ".diff - take a difference of 1..... if that doesn't work do shift of 2"
   ]
  },
  {
   "cell_type": "markdown",
   "metadata": {},
   "source": [
    "## Group 3: Low Middle Performers:  20002, 20010, 20001, 20003, 200017,20012, 20011"
   ]
  },
  {
   "cell_type": "markdown",
   "metadata": {},
   "source": [
    "#### Zipcode 20002"
   ]
  },
  {
   "cell_type": "code",
   "execution_count": null,
   "metadata": {},
   "outputs": [],
   "source": [
    "dickey_fuller_test_ind_zip(df_dc['20002'])"
   ]
  },
  {
   "cell_type": "code",
   "execution_count": null,
   "metadata": {},
   "outputs": [],
   "source": [
    "test_stationarity(df_dc['20002'], 12)"
   ]
  },
  {
   "cell_type": "code",
   "execution_count": null,
   "metadata": {},
   "outputs": [],
   "source": [
    "#log transformation and DF test for  20002 zip code\n",
    "log_20002 = pd.Series(np.log(df_dc[\"20002\"]))\n",
    "dickey_fuller_test_ind_zip(log_20002)\n"
   ]
  },
  {
   "cell_type": "code",
   "execution_count": null,
   "metadata": {
    "ExecuteTime": {
     "end_time": "2019-06-18T20:09:27.726614Z",
     "start_time": "2019-06-18T20:09:27.692467Z"
    }
   },
   "outputs": [],
   "source": [
    "test_stationarity(log_20002,12)"
   ]
  },
  {
   "cell_type": "code",
   "execution_count": null,
   "metadata": {},
   "outputs": [],
   "source": [
    "dc_diff_20002 = log_20002.diff(periods=12)\n",
    "dc_diff_20002.head(10)\n",
    "\n",
    "fig = plt.figure(figsize=(11,7))\n",
    "plt.plot(dc_diff_20002, color='blue',label='Sales - rolling mean')\n",
    "plt.legend(loc='best')\n",
    "plt.title('Differenced sales series')\n",
    "plt.show(block=False)"
   ]
  },
  {
   "cell_type": "code",
   "execution_count": null,
   "metadata": {},
   "outputs": [],
   "source": [
    "dc_diff_20002.head(15)"
   ]
  },
  {
   "cell_type": "code",
   "execution_count": null,
   "metadata": {},
   "outputs": [],
   "source": [
    "dc_diff_20002=dc_diff_20002[12:]\n",
    "dc_diff_20002.head(15)"
   ]
  },
  {
   "cell_type": "code",
   "execution_count": null,
   "metadata": {},
   "outputs": [],
   "source": [
    "dickey_fuller_test_ind_zip(dc_diff_20002)"
   ]
  },
  {
   "cell_type": "code",
   "execution_count": null,
   "metadata": {},
   "outputs": [],
   "source": [
    "# import seasonal_decompose\n",
    "decompose_log_20002 = seasonal_decompose(log_20002)\n",
    "\n",
    "# Gather the trend, seasonality and noise of decomposed object\n",
    "trend = decompose_log_20002.trend\n",
    "seasonal = decompose_log_20002.seasonal\n",
    "residual = decompose_log_20002.resid\n",
    "\n",
    "# Plot gathered statistics\n",
    "plt.figure(figsize=(12,8))\n",
    "plt.subplot(411)\n",
    "plt.plot(log_20002, label='Original', color=\"blue\")\n",
    "plt.legend(loc='best')\n",
    "plt.subplot(412)\n",
    "plt.plot(trend, label='Trend', color=\"blue\")\n",
    "plt.legend(loc='best')\n",
    "plt.subplot(413)\n",
    "plt.plot(seasonal,label='Seasonality', color=\"blue\")\n",
    "plt.legend(loc='best')\n",
    "plt.subplot(414)\n",
    "plt.plot(residual, label='Residuals', color=\"blue\")\n",
    "plt.legend(loc='best')\n",
    "plt.tight_layout()"
   ]
  },
  {
   "cell_type": "code",
   "execution_count": null,
   "metadata": {},
   "outputs": [],
   "source": [
    "# Drop NaN values from residuals.\n",
    "log_decompose_resid_20002 = residual\n",
    "log_decompose_resid_20002.dropna(inplace=True)\n",
    "\n",
    "# Check stationarity\n",
    "test_stationarity(log_decompose_resid_20002, 12)"
   ]
  },
  {
   "cell_type": "code",
   "execution_count": null,
   "metadata": {},
   "outputs": [],
   "source": [
    "log_decompose_resid_20002.head()"
   ]
  },
  {
   "cell_type": "code",
   "execution_count": null,
   "metadata": {},
   "outputs": [],
   "source": [
    "dickey_fuller_test_ind_zip(log_decompose_resid_20002)"
   ]
  },
  {
   "cell_type": "markdown",
   "metadata": {},
   "source": [
    "## Low Performers:  20032, 20020, 20019"
   ]
  },
  {
   "cell_type": "markdown",
   "metadata": {},
   "source": [
    "#### Zipcode 20032:  "
   ]
  },
  {
   "cell_type": "code",
   "execution_count": null,
   "metadata": {},
   "outputs": [],
   "source": [
    "dickey_fuller_test_ind_zip(df_dc['20032'])"
   ]
  },
  {
   "cell_type": "code",
   "execution_count": null,
   "metadata": {},
   "outputs": [],
   "source": [
    "test_stationarity(df_dc['20032'], 12)"
   ]
  },
  {
   "cell_type": "code",
   "execution_count": null,
   "metadata": {},
   "outputs": [],
   "source": [
    "#log transformation and DF test for  20032 zip code\n",
    "log_20032 = pd.Series(np.log(df_dc[\"20032\"]))\n",
    "dickey_fuller_test_ind_zip(log_20032)\n"
   ]
  },
  {
   "cell_type": "code",
   "execution_count": null,
   "metadata": {
    "ExecuteTime": {
     "end_time": "2019-06-18T20:09:27.726614Z",
     "start_time": "2019-06-18T20:09:27.692467Z"
    }
   },
   "outputs": [],
   "source": [
    "test_stationarity(log_20032,12)"
   ]
  },
  {
   "cell_type": "code",
   "execution_count": null,
   "metadata": {},
   "outputs": [],
   "source": [
    "dc_diff_20032 = log_20032.diff(periods=12)\n",
    "dc_diff_20032.head(10)\n",
    "\n",
    "fig = plt.figure(figsize=(11,7))\n",
    "plt.plot(dc_diff_20032, color='blue',label='Sales - rolling mean')\n",
    "plt.legend(loc='best')\n",
    "plt.title('Differenced sales series')\n",
    "plt.show(block=False)"
   ]
  },
  {
   "cell_type": "code",
   "execution_count": null,
   "metadata": {},
   "outputs": [],
   "source": [
    "dc_diff_20032.head(15)"
   ]
  },
  {
   "cell_type": "code",
   "execution_count": null,
   "metadata": {},
   "outputs": [],
   "source": [
    "dc_diff_20032=dc_diff_20032[12:]\n",
    "dc_diff_20032.head(15)"
   ]
  },
  {
   "cell_type": "code",
   "execution_count": null,
   "metadata": {},
   "outputs": [],
   "source": [
    "dickey_fuller_test_ind_zip(dc_diff_20032)"
   ]
  },
  {
   "cell_type": "code",
   "execution_count": null,
   "metadata": {},
   "outputs": [],
   "source": [
    "# import seasonal_decompose\n",
    "decomposition_log_20032 = seasonal_decompose(log_20032)\n",
    "\n",
    "# Gather the trend, seasonality and noise of decomposed object\n",
    "trend = decomposition_log_20032.trend\n",
    "seasonal = decomposition_log_20032.seasonal\n",
    "residual = decomposition_log_20032.resid\n",
    "\n",
    "# Plot gathered statistics\n",
    "plt.figure(figsize=(12,8))\n",
    "plt.subplot(411)\n",
    "plt.plot(log_20032, label='Original', color=\"blue\")\n",
    "plt.legend(loc='best')\n",
    "plt.subplot(412)\n",
    "plt.plot(trend, label='Trend', color=\"blue\")\n",
    "plt.legend(loc='best')\n",
    "plt.subplot(413)\n",
    "plt.plot(seasonal,label='Seasonality', color=\"blue\")\n",
    "plt.legend(loc='best')\n",
    "plt.subplot(414)\n",
    "plt.plot(residual, label='Residuals', color=\"blue\")\n",
    "plt.legend(loc='best')\n",
    "plt.tight_layout()"
   ]
  },
  {
   "cell_type": "code",
   "execution_count": null,
   "metadata": {},
   "outputs": [],
   "source": [
    "# Drop NaN values from residuals.\n",
    "log_decompose_resid_20032 = residual\n",
    "log_decompose_resid_20032.dropna(inplace=True)\n",
    "\n",
    "# Check stationarity\n",
    "test_stationarity(log_decompose_resid_20032, 12)"
   ]
  },
  {
   "cell_type": "code",
   "execution_count": null,
   "metadata": {
    "scrolled": true
   },
   "outputs": [],
   "source": [
    "dickey_fuller_test_ind_zip(log_decompose_resid_20032)"
   ]
  },
  {
   "cell_type": "markdown",
   "metadata": {},
   "source": [
    "## Creating Final Dataset for Modeling"
   ]
  },
  {
   "cell_type": "code",
   "execution_count": null,
   "metadata": {},
   "outputs": [],
   "source": [
    "df_dc_transformed=df_dc.copy()"
   ]
  },
  {
   "cell_type": "code",
   "execution_count": null,
   "metadata": {
    "scrolled": true
   },
   "outputs": [],
   "source": [
    "df_dc_transformed.head()"
   ]
  },
  {
   "cell_type": "code",
   "execution_count": null,
   "metadata": {},
   "outputs": [],
   "source": [
    "dickey_fuller_test_ind_zip(log_20008)"
   ]
  },
  {
   "cell_type": "code",
   "execution_count": null,
   "metadata": {},
   "outputs": [],
   "source": [
    "df_dc_transformed['20008']=log_20008\n",
    "# df_dc_transformed['20002_log_decompose']=\n",
    "# df_dc_transformed['20009']=\n",
    "# df_dc_transformed['20011']=\n",
    "# df_dc_transformed['20001']=\n",
    "# df_dc_transformed['20020']=\n",
    "#df_dc_transformed['20008']=\n",
    "# df_dc_transformed['20003']=\n",
    "# df_dc_transformed['20032']=\n",
    "# df_dc_transformed['20016']=\n",
    "# df_dc_transformed['20010']=\n",
    "# df_dc_transformed['20007']=\n",
    "# df_dc_transformed['20024']=\n",
    "# df_dc_transformed['20017']=\n",
    "# df_dc_transformed['20018']=\n",
    "# df_dc_transformed['20037']=\n",
    "# df_dc_transformed['20015']=\n",
    "# df_dc_transformed['20012']=\n",
    "df_dc_transformed.head()\n",
    "\n"
   ]
  },
  {
   "cell_type": "markdown",
   "metadata": {},
   "source": [
    "## ARIMA:\n"
   ]
  },
  {
   "cell_type": "code",
   "execution_count": null,
   "metadata": {},
   "outputs": [],
   "source": [
    "!pip install pmdarima"
   ]
  },
  {
   "cell_type": "code",
   "execution_count": null,
   "metadata": {},
   "outputs": [],
   "source": [
    "# Load specific forecasting tools\n",
    "from statsmodels.tsa.arima_model import ARMA,ARMAResults,ARIMA,ARIMAResults\n",
    "from statsmodels.graphics.tsaplots import plot_acf,plot_pacf # for determining (p,q) orders\n",
    "from statsmodels.tsa.stattools import adfuller\n",
    "from statsmodels.graphics.tsaplots import plot_acf,plot_pacf\n",
    "import statsmodels.api as sm\n",
    "from statsmodels.tsa.statespace.sarimax import SARIMAX\n",
    "from statsmodels.graphics.tsaplots import plot_acf,plot_pacf # for determining (p,q) orders\n",
    "from statsmodels.tsa.seasonal import seasonal_decompose      # for ETS Plots\n",
    "\n",
    "from pmdarima import auto_arima                              # for determining ARIMA orders\n",
    "# Ignore harmless warnings\n",
    "import warnings\n",
    "warnings.filterwarnings(\"ignore\")"
   ]
  },
  {
   "cell_type": "code",
   "execution_count": null,
   "metadata": {},
   "outputs": [],
   "source": [
    "title = 'Autocorrelation: Washington DC 20008 Zipcode'\n",
    "lags = 60\n",
    "plot_acf(df_dc['20008'],title=title,lags=lags);"
   ]
  },
  {
   "cell_type": "code",
   "execution_count": null,
   "metadata": {
    "scrolled": true
   },
   "outputs": [],
   "source": [
    "title = 'Partial Autocorrelation: Washington DC 20008 Zipcode'\n",
    "lags = 60\n",
    "plot_pacf(df_dc['20008'],title=title,lags=lags);"
   ]
  },
  {
   "cell_type": "code",
   "execution_count": null,
   "metadata": {},
   "outputs": [],
   "source": [
    "import warnings\n",
    "import itertools\n",
    "import pandas as pd\n",
    "import numpy as np\n",
    "import matplotlib.pyplot as plt\n",
    "import statsmodels.api as sm\n"
   ]
  },
  {
   "cell_type": "code",
   "execution_count": null,
   "metadata": {},
   "outputs": [],
   "source": [
    "train_data = df_dc_transformed['1966-01-04':'2013-01-04']\n",
    "test_data= df_dc_transformed['2013-01-05':'2018-04-01']"
   ]
  },
  {
   "cell_type": "code",
   "execution_count": null,
   "metadata": {},
   "outputs": [],
   "source": [
    "auto_arima(df_dc_transformed['20008'],seasonal=False).summary()"
   ]
  },
  {
   "cell_type": "code",
   "execution_count": null,
   "metadata": {},
   "outputs": [],
   "source": [
    "#2008\n",
    "#seasonal = False\n",
    "stepwise_fit = auto_arima(df_dc_transformed['20008'], start_p=0, start_q=0,\n",
    "                         max_p=2, max_q=2, m=12,\n",
    "                         seasonal=False,\n",
    "                         d=None, trace=True,\n",
    "                         error_action='ignore',   # we don't want to know if an order does not work\n",
    "                         suppress_warnings=True,  # we don't want convergence warnings\n",
    "                         stepwise=True)           # set to stepwise\n",
    "\n",
    "stepwise_fit.summary()"
   ]
  },
  {
   "cell_type": "code",
   "execution_count": null,
   "metadata": {
    "scrolled": true
   },
   "outputs": [],
   "source": [
    "#20008 ARIMA\n",
    "model = ARIMA(train_data['20008'],order=(2,2,2))\n",
    "results = model.fit()\n",
    "results.summary()"
   ]
  },
  {
   "cell_type": "code",
   "execution_count": null,
   "metadata": {},
   "outputs": [],
   "source": [
    "# Obtain predicted values\n",
    "start=len(train_data)\n",
    "end=len(train_data)+len(test_data)-1\n",
    "predictions = results.predict(start=start, end=end, dynamic=False, typ='levels').rename('ARIMA(2,2,2) Predictions')"
   ]
  },
  {
   "cell_type": "code",
   "execution_count": null,
   "metadata": {
    "scrolled": true
   },
   "outputs": [],
   "source": [
    "# Compare predictions to expected values\n",
    "for i in range(len(predictions)):\n",
    "    print(f\"predicted={predictions[i]:<19}, expected={test_data['20008'][i]}\")"
   ]
  },
  {
   "cell_type": "code",
   "execution_count": null,
   "metadata": {
    "scrolled": true
   },
   "outputs": [],
   "source": [
    "# Plot predictions against known values\n",
    "title = '20008 Zipcode'\n",
    "ylabel= 'Price Predictions'\n",
    "xlabel='' # we don't really need a label here\n",
    "\n",
    "ax = test_data['20008'].plot(legend=True,figsize=(12,6),title=title)\n",
    "predictions.plot(legend=True)\n",
    "ax.autoscale(axis='x',tight=True)\n",
    "ax.set(xlabel=xlabel, ylabel=ylabel)"
   ]
  },
  {
   "cell_type": "code",
   "execution_count": null,
   "metadata": {},
   "outputs": [],
   "source": []
  },
  {
   "cell_type": "markdown",
   "metadata": {},
   "source": [
    "# SARIMAX"
   ]
  },
  {
   "cell_type": "code",
   "execution_count": null,
   "metadata": {},
   "outputs": [],
   "source": [
    "auto_arima(df_dc_transformed['20008'],seasonal=True).summary()"
   ]
  },
  {
   "cell_type": "code",
   "execution_count": null,
   "metadata": {
    "scrolled": true
   },
   "outputs": [],
   "source": [
    "#2008 Sarimax\n",
    "stepwise_fit = auto_arima(df_dc_transformed['20008'], start_p=0, start_q=0,\n",
    "                         max_p=2, max_q=2, m=12,\n",
    "                         seasonal=True,\n",
    "                         d=None, trace=True,\n",
    "                         error_action='ignore',   # we don't want to know if an order does not work\n",
    "                         suppress_warnings=True,  # we don't want convergence warnings\n",
    "                         stepwise=True)           # set to stepwise\n",
    "\n",
    "stepwise_fit.summary()"
   ]
  },
  {
   "cell_type": "code",
   "execution_count": null,
   "metadata": {},
   "outputs": [],
   "source": [
    "#20008 Sarimax\n",
    "model = ARIMA(train_data['20008'],order=(2,2,0))\n",
    "results = model.fit()\n",
    "results.summary()"
   ]
  },
  {
   "cell_type": "code",
   "execution_count": null,
   "metadata": {},
   "outputs": [],
   "source": [
    "# Obtain predicted values\n",
    "start=len(train_data)\n",
    "end=len(train_data)+len(test_data)-1\n",
    "predictions = results.predict(start=start, end=end, dynamic=False, typ='levels').rename('SARIMA(2,2,0) Predictions')"
   ]
  },
  {
   "cell_type": "code",
   "execution_count": null,
   "metadata": {
    "scrolled": true
   },
   "outputs": [],
   "source": [
    "# Compare predictions to expected values\n",
    "for i in range(len(predictions)):\n",
    "    print(f\"predicted={predictions[i]:<11.10}, expected={test_data['20008'][i]}\")"
   ]
  },
  {
   "cell_type": "code",
   "execution_count": null,
   "metadata": {
    "scrolled": true
   },
   "outputs": [],
   "source": [
    "# Plot predictions against known values\n",
    "title = '20008 Zipcode'\n",
    "ylabel= 'Price Predictions'\n",
    "xlabel='' # we don't really need a label here\n",
    "\n",
    "ax = test_data['20008'].plot(legend=True,figsize=(12,6),title=title)\n",
    "predictions.plot(legend=True)\n",
    "ax.autoscale(axis='x',tight=True)\n",
    "ax.set(xlabel=xlabel, ylabel=ylabel)"
   ]
  },
  {
   "cell_type": "markdown",
   "metadata": {},
   "source": [
    "### **Results:**"
   ]
  },
  {
   "cell_type": "code",
   "execution_count": null,
   "metadata": {},
   "outputs": [],
   "source": [
    "from sklearn.metrics import mean_squared_error\n",
    "\n",
    "error = mean_squared_error(test_data['20008'], predictions)\n",
    "print(f'ARIMA(2,2,2) MSE Error: {error:11.10}')"
   ]
  },
  {
   "cell_type": "code",
   "execution_count": null,
   "metadata": {},
   "outputs": [],
   "source": [
    "from statsmodels.tools.eval_measures import rmse\n",
    "\n",
    "error = rmse(test_data['20008'], predictions)\n",
    "print(f'ARIMA(2,2,2) RMSE Error: {error:11.10}')"
   ]
  },
  {
   "cell_type": "markdown",
   "metadata": {},
   "source": [
    "### Forecasting Future:"
   ]
  },
  {
   "cell_type": "code",
   "execution_count": null,
   "metadata": {
    "ExecuteTime": {
     "end_time": "2019-06-18T01:20:59.640172Z",
     "start_time": "2019-06-18T01:20:59.633078Z"
    }
   },
   "outputs": [],
   "source": [
    "model = ARIMA(test_data['20008'],order=(2,2,2))\n",
    "results = model.fit()\n",
    "fcast = results.predict(len(test_data),len(test_data)+11,typ='levels').rename('ARIMA(2,2,2) Forecast')"
   ]
  },
  {
   "cell_type": "code",
   "execution_count": null,
   "metadata": {},
   "outputs": [],
   "source": [
    "# Plot predictions against known values\n",
    "title = 'Original vs. Forecasted Price 20008 Zip Code'\n",
    "ylabel='Dollars'\n",
    "xlabel='' # we don't really need a label here\n",
    "\n",
    "ax = test_data['20008'].plot(legend=True,figsize=(12,6),title=title)\n",
    "fcast.plot(legend=True)\n",
    "ax.autoscale(axis='x',tight=True)\n",
    "ax.set(xlabel=xlabel, ylabel=ylabel);\n"
   ]
  },
  {
   "cell_type": "markdown",
   "metadata": {},
   "source": [
    "### **Recommendations:**"
   ]
  },
  {
   "cell_type": "markdown",
   "metadata": {},
   "source": [
    "A high-level overview of your methodology and findings, including the 5 zipcodes you recommend investing in\n",
    "A brief explanation of what metrics you defined as \"best\" in order complete this project"
   ]
  },
  {
   "cell_type": "code",
   "execution_count": null,
   "metadata": {},
   "outputs": [],
   "source": [
    "df_dc.to_csv(\"zillow_dc_cleaned.csv\")"
   ]
  }
 ],
 "metadata": {
  "kernelspec": {
   "display_name": "Python 3",
   "language": "python",
   "name": "python3"
  },
  "language_info": {
   "codemirror_mode": {
    "name": "ipython",
    "version": 3
   },
   "file_extension": ".py",
   "mimetype": "text/x-python",
   "name": "python",
   "nbconvert_exporter": "python",
   "pygments_lexer": "ipython3",
   "version": "3.7.3"
  },
  "toc": {
   "base_numbering": 1,
   "nav_menu": {},
   "number_sections": true,
   "sideBar": true,
   "skip_h1_title": false,
   "title_cell": "Table of Contents",
   "title_sidebar": "Contents",
   "toc_cell": false,
   "toc_position": {},
   "toc_section_display": true,
   "toc_window_display": false
  },
  "varInspector": {
   "cols": {
    "lenName": 16,
    "lenType": 16,
    "lenVar": 40
   },
   "kernels_config": {
    "python": {
     "delete_cmd_postfix": "",
     "delete_cmd_prefix": "del ",
     "library": "var_list.py",
     "varRefreshCmd": "print(var_dic_list())"
    },
    "r": {
     "delete_cmd_postfix": ") ",
     "delete_cmd_prefix": "rm(",
     "library": "var_list.r",
     "varRefreshCmd": "cat(var_dic_list()) "
    }
   },
   "types_to_exclude": [
    "module",
    "function",
    "builtin_function_or_method",
    "instance",
    "_Feature"
   ],
   "window_display": false
  }
 },
 "nbformat": 4,
 "nbformat_minor": 2
}
